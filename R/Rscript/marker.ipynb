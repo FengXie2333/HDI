{
 "cells": [
  {
   "cell_type": "code",
   "execution_count": 39,
   "metadata": {},
   "outputs": [
    {
     "data": {
      "text/html": [
       "'LC_CTYPE=C;LC_NUMERIC=C;LC_TIME=C;LC_COLLATE=C;LC_MONETARY=C;LC_MESSAGES=en_US.UTF-8;LC_PAPER=en_US.UTF-8;LC_NAME=C;LC_ADDRESS=C;LC_TELEPHONE=C;LC_MEASUREMENT=en_US.UTF-8;LC_IDENTIFICATION=C'"
      ],
      "text/latex": [
       "'LC\\_CTYPE=C;LC\\_NUMERIC=C;LC\\_TIME=C;LC\\_COLLATE=C;LC\\_MONETARY=C;LC\\_MESSAGES=en\\_US.UTF-8;LC\\_PAPER=en\\_US.UTF-8;LC\\_NAME=C;LC\\_ADDRESS=C;LC\\_TELEPHONE=C;LC\\_MEASUREMENT=en\\_US.UTF-8;LC\\_IDENTIFICATION=C'"
      ],
      "text/markdown": [
       "'LC_CTYPE=C;LC_NUMERIC=C;LC_TIME=C;LC_COLLATE=C;LC_MONETARY=C;LC_MESSAGES=en_US.UTF-8;LC_PAPER=en_US.UTF-8;LC_NAME=C;LC_ADDRESS=C;LC_TELEPHONE=C;LC_MEASUREMENT=en_US.UTF-8;LC_IDENTIFICATION=C'"
      ],
      "text/plain": [
       "[1] \"LC_CTYPE=C;LC_NUMERIC=C;LC_TIME=C;LC_COLLATE=C;LC_MONETARY=C;LC_MESSAGES=en_US.UTF-8;LC_PAPER=en_US.UTF-8;LC_NAME=C;LC_ADDRESS=C;LC_TELEPHONE=C;LC_MEASUREMENT=en_US.UTF-8;LC_IDENTIFICATION=C\""
      ]
     },
     "metadata": {},
     "output_type": "display_data"
    }
   ],
   "source": [
    "Sys.setlocale(\"LC_ALL\", \"C\")"
   ]
  },
  {
   "cell_type": "code",
   "execution_count": 44,
   "metadata": {},
   "outputs": [],
   "source": [
    "marker <- read.csv(\"/mnt/d/Common/project/marker.csv\")"
   ]
  },
  {
   "cell_type": "code",
   "execution_count": 45,
   "metadata": {},
   "outputs": [],
   "source": [
    "marker <- t(marker)"
   ]
  },
  {
   "cell_type": "code",
   "execution_count": 46,
   "metadata": {},
   "outputs": [
    {
     "data": {
      "text/html": [
       "<table>\n",
       "<tbody>\n",
       "\t<tr><th scope=row>X1</th><td>CD4    </td></tr>\n",
       "\t<tr><th scope=row>X2</th><td>CD45RA </td></tr>\n",
       "\t<tr><th scope=row>X3</th><td> CD45RO</td></tr>\n",
       "\t<tr><th scope=row>X4</th><td> CCR7  </td></tr>\n",
       "\t<tr><th scope=row>X5</th><td> CXCR3 </td></tr>\n",
       "\t<tr><th scope=row>X6</th><td> CCR5  </td></tr>\n",
       "</tbody>\n",
       "</table>\n"
      ],
      "text/latex": [
       "\\begin{tabular}{r|l}\n",
       "\tX1 & CD4    \\\\\n",
       "\tX2 & CD45RA \\\\\n",
       "\tX3 &  CD45RO\\\\\n",
       "\tX4 &  CCR7  \\\\\n",
       "\tX5 &  CXCR3 \\\\\n",
       "\tX6 &  CCR5  \\\\\n",
       "\\end{tabular}\n"
      ],
      "text/markdown": [
       "\n",
       "| X1 | CD4     | \n",
       "| X2 | CD45RA  | \n",
       "| X3 |  CD45RO | \n",
       "| X4 |  CCR7   | \n",
       "| X5 |  CXCR3  | \n",
       "| X6 |  CCR5   | \n",
       "\n",
       "\n"
      ],
      "text/plain": [
       "   [,1]   \n",
       "X1 CD4    \n",
       "X2 CD45RA \n",
       "X3  CD45RO\n",
       "X4  CCR7  \n",
       "X5  CXCR3 \n",
       "X6  CCR5  "
      ]
     },
     "metadata": {},
     "output_type": "display_data"
    }
   ],
   "source": [
    "head(marker)"
   ]
  },
  {
   "cell_type": "code",
   "execution_count": 49,
   "metadata": {},
   "outputs": [],
   "source": [
    "marker <- marker[,1]"
   ]
  },
  {
   "cell_type": "code",
   "execution_count": 50,
   "metadata": {},
   "outputs": [],
   "source": [
    "tt <- unique(marker)"
   ]
  },
  {
   "cell_type": "code",
   "execution_count": 51,
   "metadata": {},
   "outputs": [
    {
     "data": {
      "text/html": [
       "<ol class=list-inline>\n",
       "\t<li>'CD4'</li>\n",
       "\t<li>'CD45RA'</li>\n",
       "\t<li>' CD45RO'</li>\n",
       "\t<li>' CCR7'</li>\n",
       "\t<li>' CXCR3'</li>\n",
       "\t<li>' CCR5'</li>\n",
       "\t<li>' IL12R\\246\\3022'</li>\n",
       "\t<li>'T-bet'</li>\n",
       "\t<li>' CCR4'</li>\n",
       "\t<li>'GATA3'</li>\n",
       "\t<li>' CCR3'</li>\n",
       "\t<li>' CCR6'</li>\n",
       "\t<li>' PU.1'</li>\n",
       "\t<li>' NK1.1'</li>\n",
       "\t<li>' CCR10'</li>\n",
       "\t<li>' CD127'</li>\n",
       "\t<li>' CD25'</li>\n",
       "\t<li>' CTLA-4'</li>\n",
       "\t<li>'FOXP3'</li>\n",
       "\t<li>'CXCR5'</li>\n",
       "\t<li>' CD40L'</li>\n",
       "\t<li>' ICOS'</li>\n",
       "\t<li>'Bcl-6'</li>\n",
       "\t<li>'TCR\\246\\303/\\246\\304'</li>\n",
       "\t<li>'IL23R'</li>\n",
       "\t<li>'ROR\\246\\303t'</li>\n",
       "\t<li>'TCRV\\246\\30124'</li>\n",
       "\t<li>' TCRV\\246\\30211'</li>\n",
       "\t<li>'CD8'</li>\n",
       "\t<li>' CD45RA'</li>\n",
       "\t<li>' CD28'</li>\n",
       "\t<li>'CCR7'</li>\n",
       "</ol>\n"
      ],
      "text/latex": [
       "\\begin{enumerate*}\n",
       "\\item 'CD4'\n",
       "\\item 'CD45RA'\n",
       "\\item ' CD45RO'\n",
       "\\item ' CCR7'\n",
       "\\item ' CXCR3'\n",
       "\\item ' CCR5'\n",
       "\\item ' IL12R\\textbackslash{}246\\textbackslash{}3022'\n",
       "\\item 'T-bet'\n",
       "\\item ' CCR4'\n",
       "\\item 'GATA3'\n",
       "\\item ' CCR3'\n",
       "\\item ' CCR6'\n",
       "\\item ' PU.1'\n",
       "\\item ' NK1.1'\n",
       "\\item ' CCR10'\n",
       "\\item ' CD127'\n",
       "\\item ' CD25'\n",
       "\\item ' CTLA-4'\n",
       "\\item 'FOXP3'\n",
       "\\item 'CXCR5'\n",
       "\\item ' CD40L'\n",
       "\\item ' ICOS'\n",
       "\\item 'Bcl-6'\n",
       "\\item 'TCR\\textbackslash{}246\\textbackslash{}303/\\textbackslash{}246\\textbackslash{}304'\n",
       "\\item 'IL23R'\n",
       "\\item 'ROR\\textbackslash{}246\\textbackslash{}303t'\n",
       "\\item 'TCRV\\textbackslash{}246\\textbackslash{}30124'\n",
       "\\item ' TCRV\\textbackslash{}246\\textbackslash{}30211'\n",
       "\\item 'CD8'\n",
       "\\item ' CD45RA'\n",
       "\\item ' CD28'\n",
       "\\item 'CCR7'\n",
       "\\end{enumerate*}\n"
      ],
      "text/markdown": [
       "1. 'CD4'\n",
       "2. 'CD45RA'\n",
       "3. ' CD45RO'\n",
       "4. ' CCR7'\n",
       "5. ' CXCR3'\n",
       "6. ' CCR5'\n",
       "7. ' IL12R\\246\\3022'\n",
       "8. 'T-bet'\n",
       "9. ' CCR4'\n",
       "10. 'GATA3'\n",
       "11. ' CCR3'\n",
       "12. ' CCR6'\n",
       "13. ' PU.1'\n",
       "14. ' NK1.1'\n",
       "15. ' CCR10'\n",
       "16. ' CD127'\n",
       "17. ' CD25'\n",
       "18. ' CTLA-4'\n",
       "19. 'FOXP3'\n",
       "20. 'CXCR5'\n",
       "21. ' CD40L'\n",
       "22. ' ICOS'\n",
       "23. 'Bcl-6'\n",
       "24. 'TCR\\246\\303/\\246\\304'\n",
       "25. 'IL23R'\n",
       "26. 'ROR\\246\\303t'\n",
       "27. 'TCRV\\246\\30124'\n",
       "28. ' TCRV\\246\\30211'\n",
       "29. 'CD8'\n",
       "30. ' CD45RA'\n",
       "31. ' CD28'\n",
       "32. 'CCR7'\n",
       "\n",
       "\n"
      ],
      "text/plain": [
       " [1] \"CD4\"                  \"CD45RA\"               \" CD45RO\"             \n",
       " [4] \" CCR7\"                \" CXCR3\"               \" CCR5\"               \n",
       " [7] \" IL12R\\246\\3022\"      \"T-bet\"                \" CCR4\"               \n",
       "[10] \"GATA3\"                \" CCR3\"                \" CCR6\"               \n",
       "[13] \" PU.1\"                \" NK1.1\"               \" CCR10\"              \n",
       "[16] \" CD127\"               \" CD25\"                \" CTLA-4\"             \n",
       "[19] \"FOXP3\"                \"CXCR5\"                \" CD40L\"              \n",
       "[22] \" ICOS\"                \"Bcl-6\"                \"TCR\\246\\303/\\246\\304\"\n",
       "[25] \"IL23R\"                \"ROR\\246\\303t\"         \"TCRV\\246\\30124\"      \n",
       "[28] \" TCRV\\246\\30211\"      \"CD8\"                  \" CD45RA\"             \n",
       "[31] \" CD28\"                \"CCR7\"                "
      ]
     },
     "metadata": {},
     "output_type": "display_data"
    }
   ],
   "source": [
    "tt"
   ]
  },
  {
   "cell_type": "code",
   "execution_count": 52,
   "metadata": {},
   "outputs": [],
   "source": [
    "write.table(tt, file=\"marker_unique.txt\")"
   ]
  },
  {
   "cell_type": "code",
   "execution_count": null,
   "metadata": {},
   "outputs": [],
   "source": []
  }
 ],
 "metadata": {
  "kernelspec": {
   "display_name": "R",
   "language": "R",
   "name": "ir"
  },
  "language_info": {
   "codemirror_mode": "r",
   "file_extension": ".r",
   "mimetype": "text/x-r-source",
   "name": "R",
   "pygments_lexer": "r",
   "version": "3.5.1"
  }
 },
 "nbformat": 4,
 "nbformat_minor": 2
}
