{
 "cells": [
  {
   "cell_type": "code",
   "execution_count": 2,
   "metadata": {},
   "outputs": [
    {
     "name": "stderr",
     "output_type": "stream",
     "text": [
      "Loading required package: AnnotationDbi\n",
      "Loading required package: stats4\n",
      "Loading required package: BiocGenerics\n",
      "Loading required package: parallel\n",
      "\n",
      "Attaching package: 'BiocGenerics'\n",
      "\n",
      "The following objects are masked from 'package:parallel':\n",
      "\n",
      "    clusterApply, clusterApplyLB, clusterCall, clusterEvalQ,\n",
      "    clusterExport, clusterMap, parApply, parCapply, parLapply,\n",
      "    parLapplyLB, parRapply, parSapply, parSapplyLB\n",
      "\n",
      "The following objects are masked from 'package:stats':\n",
      "\n",
      "    IQR, mad, sd, var, xtabs\n",
      "\n",
      "The following objects are masked from 'package:base':\n",
      "\n",
      "    anyDuplicated, append, as.data.frame, basename, cbind, colMeans,\n",
      "    colnames, colSums, dirname, do.call, duplicated, eval, evalq,\n",
      "    Filter, Find, get, grep, grepl, intersect, is.unsorted, lapply,\n",
      "    lengths, Map, mapply, match, mget, order, paste, pmax, pmax.int,\n",
      "    pmin, pmin.int, Position, rank, rbind, Reduce, rowMeans, rownames,\n",
      "    rowSums, sapply, setdiff, sort, table, tapply, union, unique,\n",
      "    unsplit, which, which.max, which.min\n",
      "\n",
      "Loading required package: Biobase\n",
      "Welcome to Bioconductor\n",
      "\n",
      "    Vignettes contain introductory material; view with\n",
      "    'browseVignettes()'. To cite Bioconductor, see\n",
      "    'citation(\"Biobase\")', and for packages 'citation(\"pkgname\")'.\n",
      "\n",
      "Loading required package: IRanges\n",
      "Loading required package: S4Vectors\n",
      "\n",
      "Attaching package: 'S4Vectors'\n",
      "\n",
      "The following object is masked from 'package:base':\n",
      "\n",
      "    expand.grid\n",
      "\n",
      "\n",
      "Attaching package: 'IRanges'\n",
      "\n",
      "The following object is masked from 'package:grDevices':\n",
      "\n",
      "    windows\n",
      "\n",
      "\n"
     ]
    }
   ],
   "source": [
    "library(org.Hs.eg.db)\n",
    "#library(curl)"
   ]
  },
  {
   "cell_type": "code",
   "execution_count": 4,
   "metadata": {},
   "outputs": [],
   "source": [
    "tmp <- read.table(\"D:/common/project/yangyangli/gene.txt\", header=T)"
   ]
  },
  {
   "cell_type": "code",
   "execution_count": 38,
   "metadata": {},
   "outputs": [],
   "source": [
    "tt <- as.character(tmp$Gene_id)"
   ]
  },
  {
   "cell_type": "code",
   "execution_count": 39,
   "metadata": {},
   "outputs": [],
   "source": [
    "t <- c(tt)"
   ]
  },
  {
   "cell_type": "code",
   "execution_count": 10,
   "metadata": {},
   "outputs": [],
   "source": [
    "cols <- c(\"SYMBOL\", \"GENENAME\")"
   ]
  },
  {
   "cell_type": "code",
   "execution_count": null,
   "metadata": {},
   "outputs": [],
   "source": [
    "species"
   ]
  },
  {
   "cell_type": "code",
   "execution_count": 26,
   "metadata": {
    "scrolled": true
   },
   "outputs": [
    {
     "name": "stderr",
     "output_type": "stream",
     "text": [
      "'select()' returned 1:1 mapping between keys and columns\n"
     ]
    },
    {
     "data": {
      "text/html": [
       "<table>\n",
       "<thead><tr><th scope=col>ENSEMBL</th><th scope=col>SYMBOL</th><th scope=col>GENENAME</th></tr></thead>\n",
       "<tbody>\n",
       "\t<tr><td>ENSG00000130720                                            </td><td>FIBCD1                                                     </td><td>fibrinogen C domain containing 1                           </td></tr>\n",
       "\t<tr><td>ENSG00000103257                                            </td><td>SLC7A5                                                     </td><td>solute carrier family 7 member 5                           </td></tr>\n",
       "\t<tr><td>ENSG00000156414                                            </td><td>TDRD9                                                      </td><td>tudor domain containing 9                                  </td></tr>\n",
       "\t<tr><td>ENSG00000144644                                            </td><td>GADL1                                                      </td><td>glutamate decarboxylase like 1                             </td></tr>\n",
       "\t<tr><td>ENSG00000159307                                            </td><td>SCUBE1                                                     </td><td>signal peptide, CUB domain and EGF like domain containing 1</td></tr>\n",
       "\t<tr><td>ENSG00000144485                                            </td><td>HES6                                                       </td><td>hes family bHLH transcription factor 6                     </td></tr>\n",
       "</tbody>\n",
       "</table>\n"
      ],
      "text/latex": [
       "\\begin{tabular}{r|lll}\n",
       " ENSEMBL & SYMBOL & GENENAME\\\\\n",
       "\\hline\n",
       "\t ENSG00000130720                                             & FIBCD1                                                      & fibrinogen C domain containing 1                           \\\\\n",
       "\t ENSG00000103257                                             & SLC7A5                                                      & solute carrier family 7 member 5                           \\\\\n",
       "\t ENSG00000156414                                             & TDRD9                                                       & tudor domain containing 9                                  \\\\\n",
       "\t ENSG00000144644                                             & GADL1                                                       & glutamate decarboxylase like 1                             \\\\\n",
       "\t ENSG00000159307                                             & SCUBE1                                                      & signal peptide, CUB domain and EGF like domain containing 1\\\\\n",
       "\t ENSG00000144485                                             & HES6                                                        & hes family bHLH transcription factor 6                     \\\\\n",
       "\\end{tabular}\n"
      ],
      "text/markdown": [
       "\n",
       "ENSEMBL | SYMBOL | GENENAME | \n",
       "|---|---|---|---|---|---|\n",
       "| ENSG00000130720                                             | FIBCD1                                                      | fibrinogen C domain containing 1                            | \n",
       "| ENSG00000103257                                             | SLC7A5                                                      | solute carrier family 7 member 5                            | \n",
       "| ENSG00000156414                                             | TDRD9                                                       | tudor domain containing 9                                   | \n",
       "| ENSG00000144644                                             | GADL1                                                       | glutamate decarboxylase like 1                              | \n",
       "| ENSG00000159307                                             | SCUBE1                                                      | signal peptide, CUB domain and EGF like domain containing 1 | \n",
       "| ENSG00000144485                                             | HES6                                                        | hes family bHLH transcription factor 6                      | \n",
       "\n",
       "\n"
      ],
      "text/plain": [
       "  ENSEMBL         SYMBOL\n",
       "1 ENSG00000130720 FIBCD1\n",
       "2 ENSG00000103257 SLC7A5\n",
       "3 ENSG00000156414 TDRD9 \n",
       "4 ENSG00000144644 GADL1 \n",
       "5 ENSG00000159307 SCUBE1\n",
       "6 ENSG00000144485 HES6  \n",
       "  GENENAME                                                   \n",
       "1 fibrinogen C domain containing 1                           \n",
       "2 solute carrier family 7 member 5                           \n",
       "3 tudor domain containing 9                                  \n",
       "4 glutamate decarboxylase like 1                             \n",
       "5 signal peptide, CUB domain and EGF like domain containing 1\n",
       "6 hes family bHLH transcription factor 6                     "
      ]
     },
     "metadata": {},
     "output_type": "display_data"
    }
   ],
   "source": [
    "select(org.Hs.eg.db, keys=c(\"ENSG00000130720\", \"ENSG00000103257\", \"ENSG00000156414\",\"ENSG00000144644\", \"ENSG00000159307\", \"ENSG00000144485\"), columns=cols, keytype=\"ENSEMBL\")"
   ]
  },
  {
   "cell_type": "markdown",
   "metadata": {},
   "source": [
    "### 用ensembel网站转，然后merge"
   ]
  },
  {
   "cell_type": "code",
   "execution_count": 47,
   "metadata": {},
   "outputs": [],
   "source": [
    "gene <- read.csv(\"D:/Common/project/yangyangli/mart_export.csv\", header=T)"
   ]
  },
  {
   "cell_type": "code",
   "execution_count": 49,
   "metadata": {},
   "outputs": [],
   "source": [
    "fix(gene)"
   ]
  },
  {
   "cell_type": "code",
   "execution_count": 52,
   "metadata": {},
   "outputs": [],
   "source": [
    "Med<- read.csv(\"D:/Common/project/yangyangli/Med23_KO_WT.DEG_differential.csv\", header=T)"
   ]
  },
  {
   "cell_type": "code",
   "execution_count": 67,
   "metadata": {},
   "outputs": [],
   "source": [
    "t <- merge(data.frame(Med, row.names=NULL), data.frame(gene, row.names=NULL), by = 'ID', all = TRUE)"
   ]
  },
  {
   "cell_type": "code",
   "execution_count": 69,
   "metadata": {},
   "outputs": [],
   "source": [
    "write.csv(t, \"Med_conserve_Id.csv\", quote=T, row.names = F)"
   ]
  },
  {
   "cell_type": "code",
   "execution_count": 70,
   "metadata": {},
   "outputs": [
    {
     "data": {
      "text/html": [
       "'D:/HDI/HDI/python/encode/yangyangli'"
      ],
      "text/latex": [
       "'D:/HDI/HDI/python/encode/yangyangli'"
      ],
      "text/markdown": [
       "'D:/HDI/HDI/python/encode/yangyangli'"
      ],
      "text/plain": [
       "[1] \"D:/HDI/HDI/python/encode/yangyangli\""
      ]
     },
     "metadata": {},
     "output_type": "display_data"
    }
   ],
   "source": [
    "getwd()"
   ]
  },
  {
   "cell_type": "code",
   "execution_count": null,
   "metadata": {},
   "outputs": [],
   "source": []
  }
 ],
 "metadata": {
  "kernelspec": {
   "display_name": "R",
   "language": "R",
   "name": "ir"
  },
  "language_info": {
   "codemirror_mode": "r",
   "file_extension": ".r",
   "mimetype": "text/x-r-source",
   "name": "R",
   "pygments_lexer": "r",
   "version": "3.5.1"
  }
 },
 "nbformat": 4,
 "nbformat_minor": 2
}
