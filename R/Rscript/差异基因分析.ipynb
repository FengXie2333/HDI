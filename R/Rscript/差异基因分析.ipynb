{
 "cells": [
  {
   "cell_type": "code",
   "execution_count": 7,
   "metadata": {},
   "outputs": [
    {
     "name": "stderr",
     "output_type": "stream",
     "text": [
      "\n",
      "Attaching package: ‘data.table’\n",
      "\n",
      "The following objects are masked from ‘package:dplyr’:\n",
      "\n",
      "    between, first, last\n",
      "\n"
     ]
    }
   ],
   "source": [
    "library(ggplot2)\n",
    "library(ggrepel)\n",
    "library(dplyr)\n",
    "library(data.table)"
   ]
  },
  {
   "cell_type": "code",
   "execution_count": 28,
   "metadata": {},
   "outputs": [],
   "source": [
    "setwd(\"/mnt/d/Common/project/yangyangli\")\n",
    "file <- data.table::fread(file=\"Med23_conserve_Id.csv\",header=TRUE)"
   ]
  },
  {
   "cell_type": "code",
   "execution_count": 29,
   "metadata": {},
   "outputs": [],
   "source": [
    "file <- na.omit(file)"
   ]
  },
  {
   "cell_type": "code",
   "execution_count": 30,
   "metadata": {},
   "outputs": [
    {
     "data": {
      "text/html": [
       "<ol class=list-inline>\n",
       "\t<li>12503</li>\n",
       "\t<li>9</li>\n",
       "</ol>\n"
      ],
      "text/latex": [
       "\\begin{enumerate*}\n",
       "\\item 12503\n",
       "\\item 9\n",
       "\\end{enumerate*}\n"
      ],
      "text/markdown": [
       "1. 12503\n",
       "2. 9\n",
       "\n",
       "\n"
      ],
      "text/plain": [
       "[1] 12503     9"
      ]
     },
     "metadata": {},
     "output_type": "display_data"
    }
   ],
   "source": [
    "dim(file)"
   ]
  },
  {
   "cell_type": "code",
   "execution_count": 31,
   "metadata": {},
   "outputs": [
    {
     "data": {
      "text/html": [
       "<table>\n",
       "<thead><tr><th scope=col>ID</th><th scope=col>readcount_KO_Treg</th><th scope=col>readcount_WT_Treg</th><th scope=col>logFC</th><th scope=col>p.value</th><th scope=col>qvalue</th><th scope=col>signature</th><th scope=col>change</th><th scope=col>Name</th></tr></thead>\n",
       "<tbody>\n",
       "\t<tr><td>ENSMUSG00000000001</td><td>212.685533        </td><td> 256.712136       </td><td>-0.27143          </td><td>8.0962e-01        </td><td>2.4806e-01        </td><td>FALSE             </td><td>NOT               </td><td>Gnai3             </td></tr>\n",
       "\t<tr><td>ENSMUSG00000000028</td><td> 23.479544        </td><td>   5.865734       </td><td> 2.00100          </td><td>1.0441e-04        </td><td>9.4600e-05        </td><td> TRUE             </td><td>NOT               </td><td>Cdc45             </td></tr>\n",
       "\t<tr><td>ENSMUSG00000000058</td><td>  0.000000        </td><td>   6.670835       </td><td>-3.73790          </td><td>2.2542e-02        </td><td>1.1390e-02        </td><td>FALSE             </td><td>NOT               </td><td>Cav2              </td></tr>\n",
       "\t<tr><td>ENSMUSG00000000078</td><td>420.675157        </td><td>1108.623779       </td><td>-1.39800          </td><td>6.4800e-45        </td><td>1.4800e-43        </td><td> TRUE             </td><td>DOWN              </td><td>Klf6              </td></tr>\n",
       "\t<tr><td>ENSMUSG00000000088</td><td> 14.870378        </td><td>  36.804607       </td><td>-1.30740          </td><td>1.7004e-02        </td><td>8.9349e-03        </td><td>FALSE             </td><td>NOT               </td><td>Cox5a             </td></tr>\n",
       "\t<tr><td>ENSMUSG00000000127</td><td>  0.000000        </td><td>   5.175648       </td><td>-3.37170          </td><td>5.5794e-02        </td><td>2.5130e-02        </td><td>FALSE             </td><td>NOT               </td><td>Fer               </td></tr>\n",
       "\t<tr><td>ENSMUSG00000000131</td><td>192.923584        </td><td> 133.876759       </td><td> 0.52712          </td><td>2.2700e-07        </td><td>3.4100e-07        </td><td>FALSE             </td><td>NOT               </td><td>Xpo6              </td></tr>\n",
       "\t<tr><td>ENSMUSG00000000134</td><td> 25.240509        </td><td>  11.271411       </td><td> 1.16310          </td><td>3.0735e-03        </td><td>1.9560e-03        </td><td> TRUE             </td><td>NOT               </td><td>Tfe3              </td></tr>\n",
       "\t<tr><td>ENSMUSG00000000142</td><td> 13.696400        </td><td>  15.411929       </td><td>-0.17025          </td><td>8.0288e-01        </td><td>2.4633e-01        </td><td>FALSE             </td><td>NOT               </td><td>Axin2             </td></tr>\n",
       "\t<tr><td>ENSMUSG00000000149</td><td>  0.000000        </td><td>  14.376800       </td><td>-4.84570          </td><td>2.5680e-04        </td><td>2.1226e-04        </td><td> TRUE             </td><td>NOT               </td><td>Gna12             </td></tr>\n",
       "\t<tr><td>ENSMUSG00000000168</td><td> 28.175452        </td><td>  16.677088       </td><td> 0.75657          </td><td>1.5277e-02        </td><td>8.1077e-03        </td><td>FALSE             </td><td>NOT               </td><td>Dlat              </td></tr>\n",
       "\t<tr><td>ENSMUSG00000000171</td><td> 54.002950        </td><td>  97.532209       </td><td>-0.85284          </td><td>2.1438e-02        </td><td>1.0906e-02        </td><td>FALSE             </td><td>NOT               </td><td>Sdhd              </td></tr>\n",
       "\t<tr><td>ENSMUSG00000000184</td><td>242.034963        </td><td> 292.826657       </td><td>-0.27483          </td><td>8.1819e-01        </td><td>2.4990e-01        </td><td>FALSE             </td><td>NOT               </td><td>Ccnd2             </td></tr>\n",
       "\t<tr><td>ENSMUSG00000000194</td><td> 36.001967        </td><td>  32.434060       </td><td> 0.15057          </td><td>1.9205e-01        </td><td>7.4838e-02        </td><td>FALSE             </td><td>NOT               </td><td>Gpr107            </td></tr>\n",
       "\t<tr><td>ENSMUSG00000000197</td><td> 17.022669        </td><td>   0.000000       </td><td> 5.08940          </td><td>5.9800e-06        </td><td>6.9600e-06        </td><td> TRUE             </td><td>NOT               </td><td>Nalcn             </td></tr>\n",
       "\t<tr><td>ENSMUSG00000000244</td><td>180.401160        </td><td> 204.955657       </td><td>-0.18410          </td><td>4.1578e-01        </td><td>1.4521e-01        </td><td>FALSE             </td><td>NOT               </td><td>Tspan32           </td></tr>\n",
       "\t<tr><td>ENSMUSG00000000266</td><td> 61.438139        </td><td>   9.891238       </td><td> 2.63490          </td><td>7.4700e-13        </td><td>2.4000e-12        </td><td> TRUE             </td><td>NOT               </td><td>Mid2              </td></tr>\n",
       "\t<tr><td>ENSMUSG00000000275</td><td> 28.566778        </td><td>  20.817606       </td><td> 0.45653          </td><td>6.5086e-02        </td><td>2.8798e-02        </td><td>FALSE             </td><td>NOT               </td><td>Trim25            </td></tr>\n",
       "\t<tr><td>ENSMUSG00000000276</td><td> 15.653029        </td><td>  20.357548       </td><td>-0.37912          </td><td>8.7521e-01        </td><td>2.6192e-01        </td><td>FALSE             </td><td>NOT               </td><td>Dgke              </td></tr>\n",
       "\t<tr><td>ENSMUSG00000000278</td><td>  0.000000        </td><td>   6.900864       </td><td>-3.55540          </td><td>2.3366e-02        </td><td>1.1763e-02        </td><td>FALSE             </td><td>NOT               </td><td>Scpep1            </td></tr>\n",
       "\t<tr><td>ENSMUSG00000000282</td><td>  3.521932        </td><td>  24.383052       </td><td>-2.79140          </td><td>1.9736e-04        </td><td>1.6800e-04        </td><td> TRUE             </td><td>NOT               </td><td>Mnt               </td></tr>\n",
       "\t<tr><td>ENSMUSG00000000290</td><td>105.462284        </td><td> 165.965776       </td><td>-0.65416          </td><td>4.7425e-02        </td><td>2.1853e-02        </td><td>FALSE             </td><td>NOT               </td><td>Itgb2             </td></tr>\n",
       "\t<tr><td>ENSMUSG00000000295</td><td> 30.914732        </td><td>  26.338297       </td><td> 0.23113          </td><td>1.6043e-01        </td><td>6.4050e-02        </td><td>FALSE             </td><td>NOT               </td><td>Hddc2             </td></tr>\n",
       "\t<tr><td>ENSMUSG00000000308</td><td> 24.849184        </td><td>   4.485562       </td><td> 2.46980          </td><td>9.4700e-06        </td><td>1.0600e-05        </td><td> TRUE             </td><td>NOT               </td><td>Ckmt1             </td></tr>\n",
       "\t<tr><td>ENSMUSG00000000326</td><td>  0.000000        </td><td>  55.206911       </td><td>-8.14030          </td><td>2.8900e-12        </td><td>8.7300e-12        </td><td> TRUE             </td><td>NOT               </td><td>Comt              </td></tr>\n",
       "\t<tr><td>ENSMUSG00000000339</td><td>  0.000000        </td><td>   6.785849       </td><td>-3.76250          </td><td>2.1037e-02        </td><td>1.0714e-02        </td><td>FALSE             </td><td>NOT               </td><td>Rtca              </td></tr>\n",
       "\t<tr><td>ENSMUSG00000000340</td><td>  0.000000        </td><td>   5.865734       </td><td>-4.90590          </td><td>1.9219e-02        </td><td>9.9255e-03        </td><td>FALSE             </td><td>NOT               </td><td>Dbt               </td></tr>\n",
       "\t<tr><td>ENSMUSG00000000346</td><td>306.408045        </td><td> 567.826081       </td><td>-0.88999          </td><td>3.9000e-09        </td><td>7.8900e-09        </td><td>FALSE             </td><td>NOT               </td><td>Dazap2            </td></tr>\n",
       "\t<tr><td>ENSMUSG00000000355</td><td> 69.655980        </td><td> 138.247306       </td><td>-0.98893          </td><td>8.4578e-04        </td><td>6.2019e-04        </td><td>FALSE             </td><td>NOT               </td><td>Mcts1             </td></tr>\n",
       "\t<tr><td>ENSMUSG00000000365</td><td>  0.000000        </td><td>   0.000000       </td><td> 0.76656          </td><td>8.3859e-01        </td><td>2.5306e-01        </td><td>FALSE             </td><td>NOT               </td><td>Rnf17             </td></tr>\n",
       "\t<tr><td>⋮</td><td>⋮</td><td>⋮</td><td>⋮</td><td>⋮</td><td>⋮</td><td>⋮</td><td>⋮</td><td>⋮</td></tr>\n",
       "\t<tr><td>ENSMUSG00000108521</td><td> 10.761458        </td><td> 19.207404        </td><td>-0.83579          </td><td>3.2121e-01        </td><td>1.1691e-01        </td><td>FALSE             </td><td>NOT               </td><td>Gm44639           </td></tr>\n",
       "\t<tr><td>ENSMUSG00000108525</td><td>  8.413503        </td><td>  3.680461        </td><td> 1.19280          </td><td>8.2774e-02        </td><td>3.5672e-02        </td><td>FALSE             </td><td>NOT               </td><td>Gm7443            </td></tr>\n",
       "\t<tr><td>ENSMUSG00000108545</td><td>  0.000000        </td><td>  5.175648        </td><td>-3.37170          </td><td>5.5794e-02        </td><td>2.5130e-02        </td><td>FALSE             </td><td>NOT               </td><td>Gm44613           </td></tr>\n",
       "\t<tr><td>ENSMUSG00000108551</td><td> 19.174961        </td><td>  9.891238        </td><td> 0.95500          </td><td>2.1710e-02        </td><td>1.1034e-02        </td><td>FALSE             </td><td>NOT               </td><td>Gm20274           </td></tr>\n",
       "\t<tr><td>ENSMUSG00000108557</td><td>  0.000000        </td><td> 11.731469        </td><td>-5.90590          </td><td>7.0097e-04        </td><td>5.2421e-04        </td><td> TRUE             </td><td>NOT               </td><td>Gm44835           </td></tr>\n",
       "\t<tr><td>ENSMUSG00000108560</td><td>  1.760966        </td><td>  1.495187        </td><td> 0.23604          </td><td>7.3553e-01        </td><td>2.3040e-01        </td><td>FALSE             </td><td>NOT               </td><td>Gm44695           </td></tr>\n",
       "\t<tr><td>ENSMUSG00000108563</td><td> 23.675207        </td><td> 28.293542        </td><td>-0.25710          </td><td>9.0764e-01        </td><td>2.6899e-01        </td><td>FALSE             </td><td>NOT               </td><td>Gm44686           </td></tr>\n",
       "\t<tr><td>ENSMUSG00000108573</td><td>  0.000000        </td><td>  2.415302        </td><td>-1.30380          </td><td>5.4215e-01        </td><td>1.8092e-01        </td><td>FALSE             </td><td>NOT               </td><td>Gm44986           </td></tr>\n",
       "\t<tr><td>ENSMUSG00000108575</td><td>  4.891572        </td><td>  0.000000        </td><td> 3.41040          </td><td>2.5374e-02        </td><td>1.2637e-02        </td><td>FALSE             </td><td>NOT               </td><td>Gm35665           </td></tr>\n",
       "\t<tr><td>ENSMUSG00000108599</td><td>  3.521932        </td><td>  0.000000        </td><td> 2.61460          </td><td>8.7097e-02        </td><td>3.7326e-02        </td><td>FALSE             </td><td>NOT               </td><td>Gm10616           </td></tr>\n",
       "\t<tr><td>ENSMUSG00000108621</td><td> 19.761949        </td><td> 62.797861        </td><td>-1.66800          </td><td>6.8800e-05        </td><td>6.5000e-05        </td><td> TRUE             </td><td>NOT               </td><td>Gm37494           </td></tr>\n",
       "\t<tr><td>ENSMUSG00000108625</td><td>  5.478560        </td><td>  0.000000        </td><td> 3.45380          </td><td>1.7515e-02        </td><td>9.1344e-03        </td><td>FALSE             </td><td>NOT               </td><td>Gm44711           </td></tr>\n",
       "\t<tr><td>ENSMUSG00000108633</td><td>135.985690        </td><td>156.994653        </td><td>-0.20726          </td><td>5.6749e-01        </td><td>1.8774e-01        </td><td>FALSE             </td><td>NOT               </td><td>Gm44694           </td></tr>\n",
       "\t<tr><td>ENSMUSG00000108644</td><td>  1.760966        </td><td>  0.000000        </td><td> 3.93650          </td><td>1.6212e-01        </td><td>6.4598e-02        </td><td>FALSE             </td><td>NOT               </td><td>Gm44920           </td></tr>\n",
       "\t<tr><td>ENSMUSG00000108647</td><td>  6.652537        </td><td>  0.000000        </td><td> 4.85400          </td><td>4.8127e-03        </td><td>2.9146e-03        </td><td> TRUE             </td><td>NOT               </td><td>Gm17984           </td></tr>\n",
       "\t<tr><td>ENSMUSG00000108693</td><td>  4.108920        </td><td> 19.552448        </td><td>-2.25050          </td><td>4.1709e-03        </td><td>2.5678e-03        </td><td> TRUE             </td><td>NOT               </td><td>Gm45153           </td></tr>\n",
       "\t<tr><td>ENSMUSG00000108701</td><td> 23.870869        </td><td>  3.795475        </td><td> 2.65290          </td><td>7.3600e-06        </td><td>8.4500e-06        </td><td> TRUE             </td><td>NOT               </td><td>Gm44616           </td></tr>\n",
       "\t<tr><td>ENSMUSG00000108709</td><td> 19.174961        </td><td>  0.000000        </td><td> 5.26120          </td><td>1.4900e-06        </td><td>1.9500e-06        </td><td> TRUE             </td><td>NOT               </td><td>4933431G14Rik     </td></tr>\n",
       "\t<tr><td>ENSMUSG00000108713</td><td>  1.173977        </td><td>  1.495187        </td><td>-0.34892          </td><td>9.7950e-01        </td><td>2.8535e-01        </td><td>FALSE             </td><td>NOT               </td><td>Gm33027           </td></tr>\n",
       "\t<tr><td>ENSMUSG00000108738</td><td>  1.369640        </td><td>  2.070259        </td><td>-0.59601          </td><td>8.5200e-01        </td><td>2.5631e-01        </td><td>FALSE             </td><td>NOT               </td><td>Gm44777           </td></tr>\n",
       "\t<tr><td>ENSMUSG00000108741</td><td> 34.436664        </td><td> 15.871987        </td><td> 1.11750          </td><td>7.3328e-04        </td><td>5.4533e-04        </td><td> TRUE             </td><td>NOT               </td><td>Gm44553           </td></tr>\n",
       "\t<tr><td>ENSMUSG00000108753</td><td> 13.305075        </td><td>  0.000000        </td><td> 4.73390          </td><td>7.0000e-05        </td><td>6.6100e-05        </td><td> TRUE             </td><td>NOT               </td><td>Gm45094           </td></tr>\n",
       "\t<tr><td>ENSMUSG00000108756</td><td>  0.000000        </td><td>  0.000000        </td><td> 0.76656          </td><td>8.3859e-01        </td><td>2.5306e-01        </td><td>FALSE             </td><td>NOT               </td><td>Gm44894           </td></tr>\n",
       "\t<tr><td>ENSMUSG00000108766</td><td>  0.000000        </td><td>  0.000000        </td><td> 0.76656          </td><td>7.7330e-01        </td><td>2.3953e-01        </td><td>FALSE             </td><td>NOT               </td><td>Gm44760           </td></tr>\n",
       "\t<tr><td>ENSMUSG00000108775</td><td>  8.217840        </td><td>  0.000000        </td><td> 4.03880          </td><td>2.3777e-03        </td><td>1.5506e-03        </td><td> TRUE             </td><td>NOT               </td><td>Gm44540           </td></tr>\n",
       "\t<tr><td>ENSMUSG00000108782</td><td>  0.000000        </td><td> 16.217030        </td><td>-5.01940          </td><td>9.1800e-05        </td><td>8.4400e-05        </td><td> TRUE             </td><td>NOT               </td><td>Gm32772           </td></tr>\n",
       "\t<tr><td>ENSMUSG00000108798</td><td>  0.000000        </td><td>  0.000000        </td><td>-2.04080          </td><td>5.9063e-01        </td><td>1.9383e-01        </td><td>FALSE             </td><td>NOT               </td><td>Gm9521            </td></tr>\n",
       "\t<tr><td>ENSMUSG00000108801</td><td>  5.674223        </td><td>  1.495187        </td><td> 1.92410          </td><td>6.1691e-02        </td><td>2.7484e-02        </td><td>FALSE             </td><td>NOT               </td><td>Gm39090           </td></tr>\n",
       "\t<tr><td>ENSMUSG00000108803</td><td> 70.242968        </td><td> 22.657836        </td><td> 1.63230          </td><td>1.8600e-09        </td><td>3.9300e-09        </td><td> TRUE             </td><td>NOT               </td><td>4930533N22Rik     </td></tr>\n",
       "\t<tr><td>ENSMUSG00000108812</td><td> 49.111379        </td><td> 17.712217        </td><td> 1.47130          </td><td>2.1700e-06        </td><td>2.7600e-06        </td><td> TRUE             </td><td>NOT               </td><td>C130083A15Rik     </td></tr>\n",
       "</tbody>\n",
       "</table>\n"
      ],
      "text/latex": [
       "\\begin{tabular}{r|lllllllll}\n",
       " ID & readcount\\_KO\\_Treg & readcount\\_WT\\_Treg & logFC & p.value & qvalue & signature & change & Name\\\\\n",
       "\\hline\n",
       "\t ENSMUSG00000000001 & 212.685533         &  256.712136        & -0.27143           & 8.0962e-01         & 2.4806e-01         & FALSE              & NOT                & Gnai3             \\\\\n",
       "\t ENSMUSG00000000028 &  23.479544         &    5.865734        &  2.00100           & 1.0441e-04         & 9.4600e-05         &  TRUE              & NOT                & Cdc45             \\\\\n",
       "\t ENSMUSG00000000058 &   0.000000         &    6.670835        & -3.73790           & 2.2542e-02         & 1.1390e-02         & FALSE              & NOT                & Cav2              \\\\\n",
       "\t ENSMUSG00000000078 & 420.675157         & 1108.623779        & -1.39800           & 6.4800e-45         & 1.4800e-43         &  TRUE              & DOWN               & Klf6              \\\\\n",
       "\t ENSMUSG00000000088 &  14.870378         &   36.804607        & -1.30740           & 1.7004e-02         & 8.9349e-03         & FALSE              & NOT                & Cox5a             \\\\\n",
       "\t ENSMUSG00000000127 &   0.000000         &    5.175648        & -3.37170           & 5.5794e-02         & 2.5130e-02         & FALSE              & NOT                & Fer               \\\\\n",
       "\t ENSMUSG00000000131 & 192.923584         &  133.876759        &  0.52712           & 2.2700e-07         & 3.4100e-07         & FALSE              & NOT                & Xpo6              \\\\\n",
       "\t ENSMUSG00000000134 &  25.240509         &   11.271411        &  1.16310           & 3.0735e-03         & 1.9560e-03         &  TRUE              & NOT                & Tfe3              \\\\\n",
       "\t ENSMUSG00000000142 &  13.696400         &   15.411929        & -0.17025           & 8.0288e-01         & 2.4633e-01         & FALSE              & NOT                & Axin2             \\\\\n",
       "\t ENSMUSG00000000149 &   0.000000         &   14.376800        & -4.84570           & 2.5680e-04         & 2.1226e-04         &  TRUE              & NOT                & Gna12             \\\\\n",
       "\t ENSMUSG00000000168 &  28.175452         &   16.677088        &  0.75657           & 1.5277e-02         & 8.1077e-03         & FALSE              & NOT                & Dlat              \\\\\n",
       "\t ENSMUSG00000000171 &  54.002950         &   97.532209        & -0.85284           & 2.1438e-02         & 1.0906e-02         & FALSE              & NOT                & Sdhd              \\\\\n",
       "\t ENSMUSG00000000184 & 242.034963         &  292.826657        & -0.27483           & 8.1819e-01         & 2.4990e-01         & FALSE              & NOT                & Ccnd2             \\\\\n",
       "\t ENSMUSG00000000194 &  36.001967         &   32.434060        &  0.15057           & 1.9205e-01         & 7.4838e-02         & FALSE              & NOT                & Gpr107            \\\\\n",
       "\t ENSMUSG00000000197 &  17.022669         &    0.000000        &  5.08940           & 5.9800e-06         & 6.9600e-06         &  TRUE              & NOT                & Nalcn             \\\\\n",
       "\t ENSMUSG00000000244 & 180.401160         &  204.955657        & -0.18410           & 4.1578e-01         & 1.4521e-01         & FALSE              & NOT                & Tspan32           \\\\\n",
       "\t ENSMUSG00000000266 &  61.438139         &    9.891238        &  2.63490           & 7.4700e-13         & 2.4000e-12         &  TRUE              & NOT                & Mid2              \\\\\n",
       "\t ENSMUSG00000000275 &  28.566778         &   20.817606        &  0.45653           & 6.5086e-02         & 2.8798e-02         & FALSE              & NOT                & Trim25            \\\\\n",
       "\t ENSMUSG00000000276 &  15.653029         &   20.357548        & -0.37912           & 8.7521e-01         & 2.6192e-01         & FALSE              & NOT                & Dgke              \\\\\n",
       "\t ENSMUSG00000000278 &   0.000000         &    6.900864        & -3.55540           & 2.3366e-02         & 1.1763e-02         & FALSE              & NOT                & Scpep1            \\\\\n",
       "\t ENSMUSG00000000282 &   3.521932         &   24.383052        & -2.79140           & 1.9736e-04         & 1.6800e-04         &  TRUE              & NOT                & Mnt               \\\\\n",
       "\t ENSMUSG00000000290 & 105.462284         &  165.965776        & -0.65416           & 4.7425e-02         & 2.1853e-02         & FALSE              & NOT                & Itgb2             \\\\\n",
       "\t ENSMUSG00000000295 &  30.914732         &   26.338297        &  0.23113           & 1.6043e-01         & 6.4050e-02         & FALSE              & NOT                & Hddc2             \\\\\n",
       "\t ENSMUSG00000000308 &  24.849184         &    4.485562        &  2.46980           & 9.4700e-06         & 1.0600e-05         &  TRUE              & NOT                & Ckmt1             \\\\\n",
       "\t ENSMUSG00000000326 &   0.000000         &   55.206911        & -8.14030           & 2.8900e-12         & 8.7300e-12         &  TRUE              & NOT                & Comt              \\\\\n",
       "\t ENSMUSG00000000339 &   0.000000         &    6.785849        & -3.76250           & 2.1037e-02         & 1.0714e-02         & FALSE              & NOT                & Rtca              \\\\\n",
       "\t ENSMUSG00000000340 &   0.000000         &    5.865734        & -4.90590           & 1.9219e-02         & 9.9255e-03         & FALSE              & NOT                & Dbt               \\\\\n",
       "\t ENSMUSG00000000346 & 306.408045         &  567.826081        & -0.88999           & 3.9000e-09         & 7.8900e-09         & FALSE              & NOT                & Dazap2            \\\\\n",
       "\t ENSMUSG00000000355 &  69.655980         &  138.247306        & -0.98893           & 8.4578e-04         & 6.2019e-04         & FALSE              & NOT                & Mcts1             \\\\\n",
       "\t ENSMUSG00000000365 &   0.000000         &    0.000000        &  0.76656           & 8.3859e-01         & 2.5306e-01         & FALSE              & NOT                & Rnf17             \\\\\n",
       "\t ⋮ & ⋮ & ⋮ & ⋮ & ⋮ & ⋮ & ⋮ & ⋮ & ⋮\\\\\n",
       "\t ENSMUSG00000108521 &  10.761458         &  19.207404         & -0.83579           & 3.2121e-01         & 1.1691e-01         & FALSE              & NOT                & Gm44639           \\\\\n",
       "\t ENSMUSG00000108525 &   8.413503         &   3.680461         &  1.19280           & 8.2774e-02         & 3.5672e-02         & FALSE              & NOT                & Gm7443            \\\\\n",
       "\t ENSMUSG00000108545 &   0.000000         &   5.175648         & -3.37170           & 5.5794e-02         & 2.5130e-02         & FALSE              & NOT                & Gm44613           \\\\\n",
       "\t ENSMUSG00000108551 &  19.174961         &   9.891238         &  0.95500           & 2.1710e-02         & 1.1034e-02         & FALSE              & NOT                & Gm20274           \\\\\n",
       "\t ENSMUSG00000108557 &   0.000000         &  11.731469         & -5.90590           & 7.0097e-04         & 5.2421e-04         &  TRUE              & NOT                & Gm44835           \\\\\n",
       "\t ENSMUSG00000108560 &   1.760966         &   1.495187         &  0.23604           & 7.3553e-01         & 2.3040e-01         & FALSE              & NOT                & Gm44695           \\\\\n",
       "\t ENSMUSG00000108563 &  23.675207         &  28.293542         & -0.25710           & 9.0764e-01         & 2.6899e-01         & FALSE              & NOT                & Gm44686           \\\\\n",
       "\t ENSMUSG00000108573 &   0.000000         &   2.415302         & -1.30380           & 5.4215e-01         & 1.8092e-01         & FALSE              & NOT                & Gm44986           \\\\\n",
       "\t ENSMUSG00000108575 &   4.891572         &   0.000000         &  3.41040           & 2.5374e-02         & 1.2637e-02         & FALSE              & NOT                & Gm35665           \\\\\n",
       "\t ENSMUSG00000108599 &   3.521932         &   0.000000         &  2.61460           & 8.7097e-02         & 3.7326e-02         & FALSE              & NOT                & Gm10616           \\\\\n",
       "\t ENSMUSG00000108621 &  19.761949         &  62.797861         & -1.66800           & 6.8800e-05         & 6.5000e-05         &  TRUE              & NOT                & Gm37494           \\\\\n",
       "\t ENSMUSG00000108625 &   5.478560         &   0.000000         &  3.45380           & 1.7515e-02         & 9.1344e-03         & FALSE              & NOT                & Gm44711           \\\\\n",
       "\t ENSMUSG00000108633 & 135.985690         & 156.994653         & -0.20726           & 5.6749e-01         & 1.8774e-01         & FALSE              & NOT                & Gm44694           \\\\\n",
       "\t ENSMUSG00000108644 &   1.760966         &   0.000000         &  3.93650           & 1.6212e-01         & 6.4598e-02         & FALSE              & NOT                & Gm44920           \\\\\n",
       "\t ENSMUSG00000108647 &   6.652537         &   0.000000         &  4.85400           & 4.8127e-03         & 2.9146e-03         &  TRUE              & NOT                & Gm17984           \\\\\n",
       "\t ENSMUSG00000108693 &   4.108920         &  19.552448         & -2.25050           & 4.1709e-03         & 2.5678e-03         &  TRUE              & NOT                & Gm45153           \\\\\n",
       "\t ENSMUSG00000108701 &  23.870869         &   3.795475         &  2.65290           & 7.3600e-06         & 8.4500e-06         &  TRUE              & NOT                & Gm44616           \\\\\n",
       "\t ENSMUSG00000108709 &  19.174961         &   0.000000         &  5.26120           & 1.4900e-06         & 1.9500e-06         &  TRUE              & NOT                & 4933431G14Rik     \\\\\n",
       "\t ENSMUSG00000108713 &   1.173977         &   1.495187         & -0.34892           & 9.7950e-01         & 2.8535e-01         & FALSE              & NOT                & Gm33027           \\\\\n",
       "\t ENSMUSG00000108738 &   1.369640         &   2.070259         & -0.59601           & 8.5200e-01         & 2.5631e-01         & FALSE              & NOT                & Gm44777           \\\\\n",
       "\t ENSMUSG00000108741 &  34.436664         &  15.871987         &  1.11750           & 7.3328e-04         & 5.4533e-04         &  TRUE              & NOT                & Gm44553           \\\\\n",
       "\t ENSMUSG00000108753 &  13.305075         &   0.000000         &  4.73390           & 7.0000e-05         & 6.6100e-05         &  TRUE              & NOT                & Gm45094           \\\\\n",
       "\t ENSMUSG00000108756 &   0.000000         &   0.000000         &  0.76656           & 8.3859e-01         & 2.5306e-01         & FALSE              & NOT                & Gm44894           \\\\\n",
       "\t ENSMUSG00000108766 &   0.000000         &   0.000000         &  0.76656           & 7.7330e-01         & 2.3953e-01         & FALSE              & NOT                & Gm44760           \\\\\n",
       "\t ENSMUSG00000108775 &   8.217840         &   0.000000         &  4.03880           & 2.3777e-03         & 1.5506e-03         &  TRUE              & NOT                & Gm44540           \\\\\n",
       "\t ENSMUSG00000108782 &   0.000000         &  16.217030         & -5.01940           & 9.1800e-05         & 8.4400e-05         &  TRUE              & NOT                & Gm32772           \\\\\n",
       "\t ENSMUSG00000108798 &   0.000000         &   0.000000         & -2.04080           & 5.9063e-01         & 1.9383e-01         & FALSE              & NOT                & Gm9521            \\\\\n",
       "\t ENSMUSG00000108801 &   5.674223         &   1.495187         &  1.92410           & 6.1691e-02         & 2.7484e-02         & FALSE              & NOT                & Gm39090           \\\\\n",
       "\t ENSMUSG00000108803 &  70.242968         &  22.657836         &  1.63230           & 1.8600e-09         & 3.9300e-09         &  TRUE              & NOT                & 4930533N22Rik     \\\\\n",
       "\t ENSMUSG00000108812 &  49.111379         &  17.712217         &  1.47130           & 2.1700e-06         & 2.7600e-06         &  TRUE              & NOT                & C130083A15Rik     \\\\\n",
       "\\end{tabular}\n"
      ],
      "text/markdown": [
       "\n",
       "ID | readcount_KO_Treg | readcount_WT_Treg | logFC | p.value | qvalue | signature | change | Name | \n",
       "|---|---|---|---|---|---|---|---|---|---|---|---|---|---|---|---|---|---|---|---|---|---|---|---|---|---|---|---|---|---|---|---|---|---|---|---|---|---|---|---|---|---|---|---|---|---|---|---|---|---|---|---|---|---|---|---|---|---|---|---|---|\n",
       "| ENSMUSG00000000001 | 212.685533         |  256.712136        | -0.27143           | 8.0962e-01         | 2.4806e-01         | FALSE              | NOT                | Gnai3              | \n",
       "| ENSMUSG00000000028 |  23.479544         |    5.865734        |  2.00100           | 1.0441e-04         | 9.4600e-05         |  TRUE              | NOT                | Cdc45              | \n",
       "| ENSMUSG00000000058 |   0.000000         |    6.670835        | -3.73790           | 2.2542e-02         | 1.1390e-02         | FALSE              | NOT                | Cav2               | \n",
       "| ENSMUSG00000000078 | 420.675157         | 1108.623779        | -1.39800           | 6.4800e-45         | 1.4800e-43         |  TRUE              | DOWN               | Klf6               | \n",
       "| ENSMUSG00000000088 |  14.870378         |   36.804607        | -1.30740           | 1.7004e-02         | 8.9349e-03         | FALSE              | NOT                | Cox5a              | \n",
       "| ENSMUSG00000000127 |   0.000000         |    5.175648        | -3.37170           | 5.5794e-02         | 2.5130e-02         | FALSE              | NOT                | Fer                | \n",
       "| ENSMUSG00000000131 | 192.923584         |  133.876759        |  0.52712           | 2.2700e-07         | 3.4100e-07         | FALSE              | NOT                | Xpo6               | \n",
       "| ENSMUSG00000000134 |  25.240509         |   11.271411        |  1.16310           | 3.0735e-03         | 1.9560e-03         |  TRUE              | NOT                | Tfe3               | \n",
       "| ENSMUSG00000000142 |  13.696400         |   15.411929        | -0.17025           | 8.0288e-01         | 2.4633e-01         | FALSE              | NOT                | Axin2              | \n",
       "| ENSMUSG00000000149 |   0.000000         |   14.376800        | -4.84570           | 2.5680e-04         | 2.1226e-04         |  TRUE              | NOT                | Gna12              | \n",
       "| ENSMUSG00000000168 |  28.175452         |   16.677088        |  0.75657           | 1.5277e-02         | 8.1077e-03         | FALSE              | NOT                | Dlat               | \n",
       "| ENSMUSG00000000171 |  54.002950         |   97.532209        | -0.85284           | 2.1438e-02         | 1.0906e-02         | FALSE              | NOT                | Sdhd               | \n",
       "| ENSMUSG00000000184 | 242.034963         |  292.826657        | -0.27483           | 8.1819e-01         | 2.4990e-01         | FALSE              | NOT                | Ccnd2              | \n",
       "| ENSMUSG00000000194 |  36.001967         |   32.434060        |  0.15057           | 1.9205e-01         | 7.4838e-02         | FALSE              | NOT                | Gpr107             | \n",
       "| ENSMUSG00000000197 |  17.022669         |    0.000000        |  5.08940           | 5.9800e-06         | 6.9600e-06         |  TRUE              | NOT                | Nalcn              | \n",
       "| ENSMUSG00000000244 | 180.401160         |  204.955657        | -0.18410           | 4.1578e-01         | 1.4521e-01         | FALSE              | NOT                | Tspan32            | \n",
       "| ENSMUSG00000000266 |  61.438139         |    9.891238        |  2.63490           | 7.4700e-13         | 2.4000e-12         |  TRUE              | NOT                | Mid2               | \n",
       "| ENSMUSG00000000275 |  28.566778         |   20.817606        |  0.45653           | 6.5086e-02         | 2.8798e-02         | FALSE              | NOT                | Trim25             | \n",
       "| ENSMUSG00000000276 |  15.653029         |   20.357548        | -0.37912           | 8.7521e-01         | 2.6192e-01         | FALSE              | NOT                | Dgke               | \n",
       "| ENSMUSG00000000278 |   0.000000         |    6.900864        | -3.55540           | 2.3366e-02         | 1.1763e-02         | FALSE              | NOT                | Scpep1             | \n",
       "| ENSMUSG00000000282 |   3.521932         |   24.383052        | -2.79140           | 1.9736e-04         | 1.6800e-04         |  TRUE              | NOT                | Mnt                | \n",
       "| ENSMUSG00000000290 | 105.462284         |  165.965776        | -0.65416           | 4.7425e-02         | 2.1853e-02         | FALSE              | NOT                | Itgb2              | \n",
       "| ENSMUSG00000000295 |  30.914732         |   26.338297        |  0.23113           | 1.6043e-01         | 6.4050e-02         | FALSE              | NOT                | Hddc2              | \n",
       "| ENSMUSG00000000308 |  24.849184         |    4.485562        |  2.46980           | 9.4700e-06         | 1.0600e-05         |  TRUE              | NOT                | Ckmt1              | \n",
       "| ENSMUSG00000000326 |   0.000000         |   55.206911        | -8.14030           | 2.8900e-12         | 8.7300e-12         |  TRUE              | NOT                | Comt               | \n",
       "| ENSMUSG00000000339 |   0.000000         |    6.785849        | -3.76250           | 2.1037e-02         | 1.0714e-02         | FALSE              | NOT                | Rtca               | \n",
       "| ENSMUSG00000000340 |   0.000000         |    5.865734        | -4.90590           | 1.9219e-02         | 9.9255e-03         | FALSE              | NOT                | Dbt                | \n",
       "| ENSMUSG00000000346 | 306.408045         |  567.826081        | -0.88999           | 3.9000e-09         | 7.8900e-09         | FALSE              | NOT                | Dazap2             | \n",
       "| ENSMUSG00000000355 |  69.655980         |  138.247306        | -0.98893           | 8.4578e-04         | 6.2019e-04         | FALSE              | NOT                | Mcts1              | \n",
       "| ENSMUSG00000000365 |   0.000000         |    0.000000        |  0.76656           | 8.3859e-01         | 2.5306e-01         | FALSE              | NOT                | Rnf17              | \n",
       "| ⋮ | ⋮ | ⋮ | ⋮ | ⋮ | ⋮ | ⋮ | ⋮ | ⋮ | \n",
       "| ENSMUSG00000108521 |  10.761458         |  19.207404         | -0.83579           | 3.2121e-01         | 1.1691e-01         | FALSE              | NOT                | Gm44639            | \n",
       "| ENSMUSG00000108525 |   8.413503         |   3.680461         |  1.19280           | 8.2774e-02         | 3.5672e-02         | FALSE              | NOT                | Gm7443             | \n",
       "| ENSMUSG00000108545 |   0.000000         |   5.175648         | -3.37170           | 5.5794e-02         | 2.5130e-02         | FALSE              | NOT                | Gm44613            | \n",
       "| ENSMUSG00000108551 |  19.174961         |   9.891238         |  0.95500           | 2.1710e-02         | 1.1034e-02         | FALSE              | NOT                | Gm20274            | \n",
       "| ENSMUSG00000108557 |   0.000000         |  11.731469         | -5.90590           | 7.0097e-04         | 5.2421e-04         |  TRUE              | NOT                | Gm44835            | \n",
       "| ENSMUSG00000108560 |   1.760966         |   1.495187         |  0.23604           | 7.3553e-01         | 2.3040e-01         | FALSE              | NOT                | Gm44695            | \n",
       "| ENSMUSG00000108563 |  23.675207         |  28.293542         | -0.25710           | 9.0764e-01         | 2.6899e-01         | FALSE              | NOT                | Gm44686            | \n",
       "| ENSMUSG00000108573 |   0.000000         |   2.415302         | -1.30380           | 5.4215e-01         | 1.8092e-01         | FALSE              | NOT                | Gm44986            | \n",
       "| ENSMUSG00000108575 |   4.891572         |   0.000000         |  3.41040           | 2.5374e-02         | 1.2637e-02         | FALSE              | NOT                | Gm35665            | \n",
       "| ENSMUSG00000108599 |   3.521932         |   0.000000         |  2.61460           | 8.7097e-02         | 3.7326e-02         | FALSE              | NOT                | Gm10616            | \n",
       "| ENSMUSG00000108621 |  19.761949         |  62.797861         | -1.66800           | 6.8800e-05         | 6.5000e-05         |  TRUE              | NOT                | Gm37494            | \n",
       "| ENSMUSG00000108625 |   5.478560         |   0.000000         |  3.45380           | 1.7515e-02         | 9.1344e-03         | FALSE              | NOT                | Gm44711            | \n",
       "| ENSMUSG00000108633 | 135.985690         | 156.994653         | -0.20726           | 5.6749e-01         | 1.8774e-01         | FALSE              | NOT                | Gm44694            | \n",
       "| ENSMUSG00000108644 |   1.760966         |   0.000000         |  3.93650           | 1.6212e-01         | 6.4598e-02         | FALSE              | NOT                | Gm44920            | \n",
       "| ENSMUSG00000108647 |   6.652537         |   0.000000         |  4.85400           | 4.8127e-03         | 2.9146e-03         |  TRUE              | NOT                | Gm17984            | \n",
       "| ENSMUSG00000108693 |   4.108920         |  19.552448         | -2.25050           | 4.1709e-03         | 2.5678e-03         |  TRUE              | NOT                | Gm45153            | \n",
       "| ENSMUSG00000108701 |  23.870869         |   3.795475         |  2.65290           | 7.3600e-06         | 8.4500e-06         |  TRUE              | NOT                | Gm44616            | \n",
       "| ENSMUSG00000108709 |  19.174961         |   0.000000         |  5.26120           | 1.4900e-06         | 1.9500e-06         |  TRUE              | NOT                | 4933431G14Rik      | \n",
       "| ENSMUSG00000108713 |   1.173977         |   1.495187         | -0.34892           | 9.7950e-01         | 2.8535e-01         | FALSE              | NOT                | Gm33027            | \n",
       "| ENSMUSG00000108738 |   1.369640         |   2.070259         | -0.59601           | 8.5200e-01         | 2.5631e-01         | FALSE              | NOT                | Gm44777            | \n",
       "| ENSMUSG00000108741 |  34.436664         |  15.871987         |  1.11750           | 7.3328e-04         | 5.4533e-04         |  TRUE              | NOT                | Gm44553            | \n",
       "| ENSMUSG00000108753 |  13.305075         |   0.000000         |  4.73390           | 7.0000e-05         | 6.6100e-05         |  TRUE              | NOT                | Gm45094            | \n",
       "| ENSMUSG00000108756 |   0.000000         |   0.000000         |  0.76656           | 8.3859e-01         | 2.5306e-01         | FALSE              | NOT                | Gm44894            | \n",
       "| ENSMUSG00000108766 |   0.000000         |   0.000000         |  0.76656           | 7.7330e-01         | 2.3953e-01         | FALSE              | NOT                | Gm44760            | \n",
       "| ENSMUSG00000108775 |   8.217840         |   0.000000         |  4.03880           | 2.3777e-03         | 1.5506e-03         |  TRUE              | NOT                | Gm44540            | \n",
       "| ENSMUSG00000108782 |   0.000000         |  16.217030         | -5.01940           | 9.1800e-05         | 8.4400e-05         |  TRUE              | NOT                | Gm32772            | \n",
       "| ENSMUSG00000108798 |   0.000000         |   0.000000         | -2.04080           | 5.9063e-01         | 1.9383e-01         | FALSE              | NOT                | Gm9521             | \n",
       "| ENSMUSG00000108801 |   5.674223         |   1.495187         |  1.92410           | 6.1691e-02         | 2.7484e-02         | FALSE              | NOT                | Gm39090            | \n",
       "| ENSMUSG00000108803 |  70.242968         |  22.657836         |  1.63230           | 1.8600e-09         | 3.9300e-09         |  TRUE              | NOT                | 4930533N22Rik      | \n",
       "| ENSMUSG00000108812 |  49.111379         |  17.712217         |  1.47130           | 2.1700e-06         | 2.7600e-06         |  TRUE              | NOT                | C130083A15Rik      | \n",
       "\n",
       "\n"
      ],
      "text/plain": [
       "      ID                 readcount_KO_Treg readcount_WT_Treg logFC   \n",
       "1     ENSMUSG00000000001 212.685533         256.712136       -0.27143\n",
       "2     ENSMUSG00000000028  23.479544           5.865734        2.00100\n",
       "3     ENSMUSG00000000058   0.000000           6.670835       -3.73790\n",
       "4     ENSMUSG00000000078 420.675157        1108.623779       -1.39800\n",
       "5     ENSMUSG00000000088  14.870378          36.804607       -1.30740\n",
       "6     ENSMUSG00000000127   0.000000           5.175648       -3.37170\n",
       "7     ENSMUSG00000000131 192.923584         133.876759        0.52712\n",
       "8     ENSMUSG00000000134  25.240509          11.271411        1.16310\n",
       "9     ENSMUSG00000000142  13.696400          15.411929       -0.17025\n",
       "10    ENSMUSG00000000149   0.000000          14.376800       -4.84570\n",
       "11    ENSMUSG00000000168  28.175452          16.677088        0.75657\n",
       "12    ENSMUSG00000000171  54.002950          97.532209       -0.85284\n",
       "13    ENSMUSG00000000184 242.034963         292.826657       -0.27483\n",
       "14    ENSMUSG00000000194  36.001967          32.434060        0.15057\n",
       "15    ENSMUSG00000000197  17.022669           0.000000        5.08940\n",
       "16    ENSMUSG00000000244 180.401160         204.955657       -0.18410\n",
       "17    ENSMUSG00000000266  61.438139           9.891238        2.63490\n",
       "18    ENSMUSG00000000275  28.566778          20.817606        0.45653\n",
       "19    ENSMUSG00000000276  15.653029          20.357548       -0.37912\n",
       "20    ENSMUSG00000000278   0.000000           6.900864       -3.55540\n",
       "21    ENSMUSG00000000282   3.521932          24.383052       -2.79140\n",
       "22    ENSMUSG00000000290 105.462284         165.965776       -0.65416\n",
       "23    ENSMUSG00000000295  30.914732          26.338297        0.23113\n",
       "24    ENSMUSG00000000308  24.849184           4.485562        2.46980\n",
       "25    ENSMUSG00000000326   0.000000          55.206911       -8.14030\n",
       "26    ENSMUSG00000000339   0.000000           6.785849       -3.76250\n",
       "27    ENSMUSG00000000340   0.000000           5.865734       -4.90590\n",
       "28    ENSMUSG00000000346 306.408045         567.826081       -0.88999\n",
       "29    ENSMUSG00000000355  69.655980         138.247306       -0.98893\n",
       "30    ENSMUSG00000000365   0.000000           0.000000        0.76656\n",
       "⋮     ⋮                  ⋮                 ⋮                 ⋮       \n",
       "12474 ENSMUSG00000108521  10.761458         19.207404        -0.83579\n",
       "12475 ENSMUSG00000108525   8.413503          3.680461         1.19280\n",
       "12476 ENSMUSG00000108545   0.000000          5.175648        -3.37170\n",
       "12477 ENSMUSG00000108551  19.174961          9.891238         0.95500\n",
       "12478 ENSMUSG00000108557   0.000000         11.731469        -5.90590\n",
       "12479 ENSMUSG00000108560   1.760966          1.495187         0.23604\n",
       "12480 ENSMUSG00000108563  23.675207         28.293542        -0.25710\n",
       "12481 ENSMUSG00000108573   0.000000          2.415302        -1.30380\n",
       "12482 ENSMUSG00000108575   4.891572          0.000000         3.41040\n",
       "12483 ENSMUSG00000108599   3.521932          0.000000         2.61460\n",
       "12484 ENSMUSG00000108621  19.761949         62.797861        -1.66800\n",
       "12485 ENSMUSG00000108625   5.478560          0.000000         3.45380\n",
       "12486 ENSMUSG00000108633 135.985690        156.994653        -0.20726\n",
       "12487 ENSMUSG00000108644   1.760966          0.000000         3.93650\n",
       "12488 ENSMUSG00000108647   6.652537          0.000000         4.85400\n",
       "12489 ENSMUSG00000108693   4.108920         19.552448        -2.25050\n",
       "12490 ENSMUSG00000108701  23.870869          3.795475         2.65290\n",
       "12491 ENSMUSG00000108709  19.174961          0.000000         5.26120\n",
       "12492 ENSMUSG00000108713   1.173977          1.495187        -0.34892\n",
       "12493 ENSMUSG00000108738   1.369640          2.070259        -0.59601\n",
       "12494 ENSMUSG00000108741  34.436664         15.871987         1.11750\n",
       "12495 ENSMUSG00000108753  13.305075          0.000000         4.73390\n",
       "12496 ENSMUSG00000108756   0.000000          0.000000         0.76656\n",
       "12497 ENSMUSG00000108766   0.000000          0.000000         0.76656\n",
       "12498 ENSMUSG00000108775   8.217840          0.000000         4.03880\n",
       "12499 ENSMUSG00000108782   0.000000         16.217030        -5.01940\n",
       "12500 ENSMUSG00000108798   0.000000          0.000000        -2.04080\n",
       "12501 ENSMUSG00000108801   5.674223          1.495187         1.92410\n",
       "12502 ENSMUSG00000108803  70.242968         22.657836         1.63230\n",
       "12503 ENSMUSG00000108812  49.111379         17.712217         1.47130\n",
       "      p.value    qvalue     signature change Name         \n",
       "1     8.0962e-01 2.4806e-01 FALSE     NOT    Gnai3        \n",
       "2     1.0441e-04 9.4600e-05  TRUE     NOT    Cdc45        \n",
       "3     2.2542e-02 1.1390e-02 FALSE     NOT    Cav2         \n",
       "4     6.4800e-45 1.4800e-43  TRUE     DOWN   Klf6         \n",
       "5     1.7004e-02 8.9349e-03 FALSE     NOT    Cox5a        \n",
       "6     5.5794e-02 2.5130e-02 FALSE     NOT    Fer          \n",
       "7     2.2700e-07 3.4100e-07 FALSE     NOT    Xpo6         \n",
       "8     3.0735e-03 1.9560e-03  TRUE     NOT    Tfe3         \n",
       "9     8.0288e-01 2.4633e-01 FALSE     NOT    Axin2        \n",
       "10    2.5680e-04 2.1226e-04  TRUE     NOT    Gna12        \n",
       "11    1.5277e-02 8.1077e-03 FALSE     NOT    Dlat         \n",
       "12    2.1438e-02 1.0906e-02 FALSE     NOT    Sdhd         \n",
       "13    8.1819e-01 2.4990e-01 FALSE     NOT    Ccnd2        \n",
       "14    1.9205e-01 7.4838e-02 FALSE     NOT    Gpr107       \n",
       "15    5.9800e-06 6.9600e-06  TRUE     NOT    Nalcn        \n",
       "16    4.1578e-01 1.4521e-01 FALSE     NOT    Tspan32      \n",
       "17    7.4700e-13 2.4000e-12  TRUE     NOT    Mid2         \n",
       "18    6.5086e-02 2.8798e-02 FALSE     NOT    Trim25       \n",
       "19    8.7521e-01 2.6192e-01 FALSE     NOT    Dgke         \n",
       "20    2.3366e-02 1.1763e-02 FALSE     NOT    Scpep1       \n",
       "21    1.9736e-04 1.6800e-04  TRUE     NOT    Mnt          \n",
       "22    4.7425e-02 2.1853e-02 FALSE     NOT    Itgb2        \n",
       "23    1.6043e-01 6.4050e-02 FALSE     NOT    Hddc2        \n",
       "24    9.4700e-06 1.0600e-05  TRUE     NOT    Ckmt1        \n",
       "25    2.8900e-12 8.7300e-12  TRUE     NOT    Comt         \n",
       "26    2.1037e-02 1.0714e-02 FALSE     NOT    Rtca         \n",
       "27    1.9219e-02 9.9255e-03 FALSE     NOT    Dbt          \n",
       "28    3.9000e-09 7.8900e-09 FALSE     NOT    Dazap2       \n",
       "29    8.4578e-04 6.2019e-04 FALSE     NOT    Mcts1        \n",
       "30    8.3859e-01 2.5306e-01 FALSE     NOT    Rnf17        \n",
       "⋮     ⋮          ⋮          ⋮         ⋮      ⋮            \n",
       "12474 3.2121e-01 1.1691e-01 FALSE     NOT    Gm44639      \n",
       "12475 8.2774e-02 3.5672e-02 FALSE     NOT    Gm7443       \n",
       "12476 5.5794e-02 2.5130e-02 FALSE     NOT    Gm44613      \n",
       "12477 2.1710e-02 1.1034e-02 FALSE     NOT    Gm20274      \n",
       "12478 7.0097e-04 5.2421e-04  TRUE     NOT    Gm44835      \n",
       "12479 7.3553e-01 2.3040e-01 FALSE     NOT    Gm44695      \n",
       "12480 9.0764e-01 2.6899e-01 FALSE     NOT    Gm44686      \n",
       "12481 5.4215e-01 1.8092e-01 FALSE     NOT    Gm44986      \n",
       "12482 2.5374e-02 1.2637e-02 FALSE     NOT    Gm35665      \n",
       "12483 8.7097e-02 3.7326e-02 FALSE     NOT    Gm10616      \n",
       "12484 6.8800e-05 6.5000e-05  TRUE     NOT    Gm37494      \n",
       "12485 1.7515e-02 9.1344e-03 FALSE     NOT    Gm44711      \n",
       "12486 5.6749e-01 1.8774e-01 FALSE     NOT    Gm44694      \n",
       "12487 1.6212e-01 6.4598e-02 FALSE     NOT    Gm44920      \n",
       "12488 4.8127e-03 2.9146e-03  TRUE     NOT    Gm17984      \n",
       "12489 4.1709e-03 2.5678e-03  TRUE     NOT    Gm45153      \n",
       "12490 7.3600e-06 8.4500e-06  TRUE     NOT    Gm44616      \n",
       "12491 1.4900e-06 1.9500e-06  TRUE     NOT    4933431G14Rik\n",
       "12492 9.7950e-01 2.8535e-01 FALSE     NOT    Gm33027      \n",
       "12493 8.5200e-01 2.5631e-01 FALSE     NOT    Gm44777      \n",
       "12494 7.3328e-04 5.4533e-04  TRUE     NOT    Gm44553      \n",
       "12495 7.0000e-05 6.6100e-05  TRUE     NOT    Gm45094      \n",
       "12496 8.3859e-01 2.5306e-01 FALSE     NOT    Gm44894      \n",
       "12497 7.7330e-01 2.3953e-01 FALSE     NOT    Gm44760      \n",
       "12498 2.3777e-03 1.5506e-03  TRUE     NOT    Gm44540      \n",
       "12499 9.1800e-05 8.4400e-05  TRUE     NOT    Gm32772      \n",
       "12500 5.9063e-01 1.9383e-01 FALSE     NOT    Gm9521       \n",
       "12501 6.1691e-02 2.7484e-02 FALSE     NOT    Gm39090      \n",
       "12502 1.8600e-09 3.9300e-09  TRUE     NOT    4930533N22Rik\n",
       "12503 2.1700e-06 2.7600e-06  TRUE     NOT    C130083A15Rik"
      ]
     },
     "metadata": {},
     "output_type": "display_data"
    }
   ],
   "source": [
    "file"
   ]
  },
  {
   "cell_type": "code",
   "execution_count": 32,
   "metadata": {},
   "outputs": [],
   "source": [
    "file$change <- NA"
   ]
  },
  {
   "cell_type": "code",
   "execution_count": 34,
   "metadata": {},
   "outputs": [],
   "source": [
    "file$change <- as.factor(ifelse(file$p.value < 0.005 & abs(file$logFC) > 1,ifelse(file$logFC > 1,'UP','DOWN'),'NOT'))"
   ]
  },
  {
   "cell_type": "code",
   "execution_count": 35,
   "metadata": {},
   "outputs": [
    {
     "data": {
      "text/html": [
       "<table>\n",
       "<thead><tr><th scope=col>ID</th><th scope=col>readcount_KO_Treg</th><th scope=col>readcount_WT_Treg</th><th scope=col>logFC</th><th scope=col>p.value</th><th scope=col>qvalue</th><th scope=col>signature</th><th scope=col>change</th><th scope=col>Name</th></tr></thead>\n",
       "<tbody>\n",
       "\t<tr><td>ENSMUSG00000000001</td><td>212.68553         </td><td> 256.712136       </td><td>-0.27143          </td><td>8.0962e-01        </td><td>2.4806e-01        </td><td>FALSE             </td><td>NOT               </td><td>Gnai3             </td></tr>\n",
       "\t<tr><td>ENSMUSG00000000028</td><td> 23.47954         </td><td>   5.865734       </td><td> 2.00100          </td><td>1.0441e-04        </td><td>9.4600e-05        </td><td> TRUE             </td><td>UP                </td><td>Cdc45             </td></tr>\n",
       "\t<tr><td>ENSMUSG00000000058</td><td>  0.00000         </td><td>   6.670835       </td><td>-3.73790          </td><td>2.2542e-02        </td><td>1.1390e-02        </td><td>FALSE             </td><td>NOT               </td><td>Cav2              </td></tr>\n",
       "\t<tr><td>ENSMUSG00000000078</td><td>420.67516         </td><td>1108.623779       </td><td>-1.39800          </td><td>6.4800e-45        </td><td>1.4800e-43        </td><td> TRUE             </td><td>DOWN              </td><td>Klf6              </td></tr>\n",
       "\t<tr><td>ENSMUSG00000000088</td><td> 14.87038         </td><td>  36.804607       </td><td>-1.30740          </td><td>1.7004e-02        </td><td>8.9349e-03        </td><td>FALSE             </td><td>NOT               </td><td>Cox5a             </td></tr>\n",
       "\t<tr><td>ENSMUSG00000000127</td><td>  0.00000         </td><td>   5.175648       </td><td>-3.37170          </td><td>5.5794e-02        </td><td>2.5130e-02        </td><td>FALSE             </td><td>NOT               </td><td>Fer               </td></tr>\n",
       "</tbody>\n",
       "</table>\n"
      ],
      "text/latex": [
       "\\begin{tabular}{r|lllllllll}\n",
       " ID & readcount\\_KO\\_Treg & readcount\\_WT\\_Treg & logFC & p.value & qvalue & signature & change & Name\\\\\n",
       "\\hline\n",
       "\t ENSMUSG00000000001 & 212.68553          &  256.712136        & -0.27143           & 8.0962e-01         & 2.4806e-01         & FALSE              & NOT                & Gnai3             \\\\\n",
       "\t ENSMUSG00000000028 &  23.47954          &    5.865734        &  2.00100           & 1.0441e-04         & 9.4600e-05         &  TRUE              & UP                 & Cdc45             \\\\\n",
       "\t ENSMUSG00000000058 &   0.00000          &    6.670835        & -3.73790           & 2.2542e-02         & 1.1390e-02         & FALSE              & NOT                & Cav2              \\\\\n",
       "\t ENSMUSG00000000078 & 420.67516          & 1108.623779        & -1.39800           & 6.4800e-45         & 1.4800e-43         &  TRUE              & DOWN               & Klf6              \\\\\n",
       "\t ENSMUSG00000000088 &  14.87038          &   36.804607        & -1.30740           & 1.7004e-02         & 8.9349e-03         & FALSE              & NOT                & Cox5a             \\\\\n",
       "\t ENSMUSG00000000127 &   0.00000          &    5.175648        & -3.37170           & 5.5794e-02         & 2.5130e-02         & FALSE              & NOT                & Fer               \\\\\n",
       "\\end{tabular}\n"
      ],
      "text/markdown": [
       "\n",
       "ID | readcount_KO_Treg | readcount_WT_Treg | logFC | p.value | qvalue | signature | change | Name | \n",
       "|---|---|---|---|---|---|\n",
       "| ENSMUSG00000000001 | 212.68553          |  256.712136        | -0.27143           | 8.0962e-01         | 2.4806e-01         | FALSE              | NOT                | Gnai3              | \n",
       "| ENSMUSG00000000028 |  23.47954          |    5.865734        |  2.00100           | 1.0441e-04         | 9.4600e-05         |  TRUE              | UP                 | Cdc45              | \n",
       "| ENSMUSG00000000058 |   0.00000          |    6.670835        | -3.73790           | 2.2542e-02         | 1.1390e-02         | FALSE              | NOT                | Cav2               | \n",
       "| ENSMUSG00000000078 | 420.67516          | 1108.623779        | -1.39800           | 6.4800e-45         | 1.4800e-43         |  TRUE              | DOWN               | Klf6               | \n",
       "| ENSMUSG00000000088 |  14.87038          |   36.804607        | -1.30740           | 1.7004e-02         | 8.9349e-03         | FALSE              | NOT                | Cox5a              | \n",
       "| ENSMUSG00000000127 |   0.00000          |    5.175648        | -3.37170           | 5.5794e-02         | 2.5130e-02         | FALSE              | NOT                | Fer                | \n",
       "\n",
       "\n"
      ],
      "text/plain": [
       "  ID                 readcount_KO_Treg readcount_WT_Treg logFC    p.value   \n",
       "1 ENSMUSG00000000001 212.68553          256.712136       -0.27143 8.0962e-01\n",
       "2 ENSMUSG00000000028  23.47954            5.865734        2.00100 1.0441e-04\n",
       "3 ENSMUSG00000000058   0.00000            6.670835       -3.73790 2.2542e-02\n",
       "4 ENSMUSG00000000078 420.67516         1108.623779       -1.39800 6.4800e-45\n",
       "5 ENSMUSG00000000088  14.87038           36.804607       -1.30740 1.7004e-02\n",
       "6 ENSMUSG00000000127   0.00000            5.175648       -3.37170 5.5794e-02\n",
       "  qvalue     signature change Name \n",
       "1 2.4806e-01 FALSE     NOT    Gnai3\n",
       "2 9.4600e-05  TRUE     UP     Cdc45\n",
       "3 1.1390e-02 FALSE     NOT    Cav2 \n",
       "4 1.4800e-43  TRUE     DOWN   Klf6 \n",
       "5 8.9349e-03 FALSE     NOT    Cox5a\n",
       "6 2.5130e-02 FALSE     NOT    Fer  "
      ]
     },
     "metadata": {},
     "output_type": "display_data"
    }
   ],
   "source": [
    "head(file)"
   ]
  },
  {
   "cell_type": "code",
   "execution_count": 36,
   "metadata": {},
   "outputs": [],
   "source": [
    "t <- file[file$change != \"NOT\"]"
   ]
  },
  {
   "cell_type": "code",
   "execution_count": 37,
   "metadata": {},
   "outputs": [
    {
     "data": {
      "text/html": [
       "<ol class=list-inline>\n",
       "\t<li>4799</li>\n",
       "\t<li>9</li>\n",
       "</ol>\n"
      ],
      "text/latex": [
       "\\begin{enumerate*}\n",
       "\\item 4799\n",
       "\\item 9\n",
       "\\end{enumerate*}\n"
      ],
      "text/markdown": [
       "1. 4799\n",
       "2. 9\n",
       "\n",
       "\n"
      ],
      "text/plain": [
       "[1] 4799    9"
      ]
     },
     "metadata": {},
     "output_type": "display_data"
    }
   ],
   "source": [
    "dim(t)"
   ]
  },
  {
   "cell_type": "code",
   "execution_count": 222,
   "metadata": {},
   "outputs": [
    {
     "data": {
      "text/html": [
       "12083"
      ],
      "text/latex": [
       "12083"
      ],
      "text/markdown": [
       "12083"
      ],
      "text/plain": [
       "[1] 12083"
      ]
     },
     "metadata": {},
     "output_type": "display_data"
    }
   ],
   "source": [
    "length(t)"
   ]
  },
  {
   "cell_type": "code",
   "execution_count": 223,
   "metadata": {},
   "outputs": [],
   "source": [
    "p <- ggplot(data = file, aes(x = logFC, y = -log10(p.value), color = change))+geom_point(alpha=0.8, size = 1)+scale_color_manual(values =c(\"blue\",\"black\",\"red\"))+\n",
    "geom_hline(yintercept = -log10(0.05),lty=4,lwd=0.6,alpha=0.8)+geom_vline(xintercept = c(1,-1),lty=4,lwd=0.6,alpha=0.8)+xlim(-9,9)+theme_bw(base_size = 18)+theme(panel.grid.minor = element_blank(),panel.grid.major = element_blank())"
   ]
  },
  {
   "cell_type": "code",
   "execution_count": 224,
   "metadata": {
    "scrolled": true
   },
   "outputs": [
    {
     "name": "stderr",
     "output_type": "stream",
     "text": [
      "Warning message:\n",
      "\"Removed 9 rows containing missing values (geom_point).\""
     ]
    },
    {
     "data": {},
     "metadata": {},
     "output_type": "display_data"
    },
    {
     "data": {
      "image/png": "[encoded data removed]",
      "text/plain": [
       "plot without title"
      ]
     },
     "metadata": {},
     "output_type": "display_data"
    }
   ],
   "source": [
    "p"
   ]
  },
  {
   "cell_type": "code",
   "execution_count": 38,
   "metadata": {},
   "outputs": [],
   "source": [
    "write.csv(file, \"Med23_p0.005_KO_WT.DEG_differential.csv\", quote = T, row.names = F)"
   ]
  },
  {
   "cell_type": "code",
   "execution_count": 15,
   "metadata": {},
   "outputs": [],
   "source": [
    "?write.csv"
   ]
  },
  {
   "cell_type": "code",
   "execution_count": null,
   "metadata": {},
   "outputs": [],
   "source": [
    "read.table"
   ]
  }
 ],
 "metadata": {
  "kernelspec": {
   "display_name": "R",
   "language": "R",
   "name": "ir"
  },
  "language_info": {
   "codemirror_mode": "r",
   "file_extension": ".r",
   "mimetype": "text/x-r-source",
   "name": "R",
   "pygments_lexer": "r",
   "version": "3.5.1"
  }
 },
 "nbformat": 4,
 "nbformat_minor": 2
}
