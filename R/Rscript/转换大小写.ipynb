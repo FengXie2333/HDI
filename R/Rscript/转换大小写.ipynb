{
 "cells": [
  {
   "cell_type": "code",
   "execution_count": 17,
   "metadata": {},
   "outputs": [],
   "source": [
    "med <- read.table(\"/mnt/d/Common/project/yangyangli/GSEA-med23/med23_gsea.txt\", header=T, stringsAsFactors=F) "
   ]
  },
  {
   "cell_type": "code",
   "execution_count": 18,
   "metadata": {},
   "outputs": [
    {
     "data": {
      "text/html": [
       "<table>\n",
       "<thead><tr><th scope=col>Name</th><th scope=col>Description</th><th scope=col>KO</th><th scope=col>WT</th></tr></thead>\n",
       "<tbody>\n",
       "\t<tr><td>Gnai3      </td><td>NA         </td><td>212.68553  </td><td> 256.712136</td></tr>\n",
       "\t<tr><td>Cdc45      </td><td>NA         </td><td> 23.47954  </td><td>   5.865734</td></tr>\n",
       "\t<tr><td>Cav2       </td><td>NA         </td><td>  0.00000  </td><td>   6.670835</td></tr>\n",
       "\t<tr><td>Klf6       </td><td>NA         </td><td>420.67516  </td><td>1108.623779</td></tr>\n",
       "\t<tr><td>Cox5a      </td><td>NA         </td><td> 14.87038  </td><td>  36.804607</td></tr>\n",
       "\t<tr><td>Fer        </td><td>NA         </td><td>  0.00000  </td><td>   5.175648</td></tr>\n",
       "</tbody>\n",
       "</table>\n"
      ],
      "text/latex": [
       "\\begin{tabular}{r|llll}\n",
       " Name & Description & KO & WT\\\\\n",
       "\\hline\n",
       "\t Gnai3       & NA          & 212.68553   &  256.712136\\\\\n",
       "\t Cdc45       & NA          &  23.47954   &    5.865734\\\\\n",
       "\t Cav2        & NA          &   0.00000   &    6.670835\\\\\n",
       "\t Klf6        & NA          & 420.67516   & 1108.623779\\\\\n",
       "\t Cox5a       & NA          &  14.87038   &   36.804607\\\\\n",
       "\t Fer         & NA          &   0.00000   &    5.175648\\\\\n",
       "\\end{tabular}\n"
      ],
      "text/markdown": [
       "\n",
       "Name | Description | KO | WT | \n",
       "|---|---|---|---|---|---|\n",
       "| Gnai3       | NA          | 212.68553   |  256.712136 | \n",
       "| Cdc45       | NA          |  23.47954   |    5.865734 | \n",
       "| Cav2        | NA          |   0.00000   |    6.670835 | \n",
       "| Klf6        | NA          | 420.67516   | 1108.623779 | \n",
       "| Cox5a       | NA          |  14.87038   |   36.804607 | \n",
       "| Fer         | NA          |   0.00000   |    5.175648 | \n",
       "\n",
       "\n"
      ],
      "text/plain": [
       "  Name  Description KO        WT         \n",
       "1 Gnai3 NA          212.68553  256.712136\n",
       "2 Cdc45 NA           23.47954    5.865734\n",
       "3 Cav2  NA            0.00000    6.670835\n",
       "4 Klf6  NA          420.67516 1108.623779\n",
       "5 Cox5a NA           14.87038   36.804607\n",
       "6 Fer   NA            0.00000    5.175648"
      ]
     },
     "metadata": {},
     "output_type": "display_data"
    }
   ],
   "source": [
    "head(med)"
   ]
  },
  {
   "cell_type": "code",
   "execution_count": 19,
   "metadata": {},
   "outputs": [],
   "source": [
    "name <- med$Name"
   ]
  },
  {
   "cell_type": "code",
   "execution_count": 20,
   "metadata": {},
   "outputs": [
    {
     "data": {
      "text/html": [
       "'character'"
      ],
      "text/latex": [
       "'character'"
      ],
      "text/markdown": [
       "'character'"
      ],
      "text/plain": [
       "[1] \"character\""
      ]
     },
     "metadata": {},
     "output_type": "display_data"
    }
   ],
   "source": [
    "class(name)"
   ]
  },
  {
   "cell_type": "code",
   "execution_count": 21,
   "metadata": {},
   "outputs": [],
   "source": [
    "n <- toupper(name)"
   ]
  },
  {
   "cell_type": "code",
   "execution_count": 23,
   "metadata": {},
   "outputs": [],
   "source": [
    "name <- as.data.frame(n)"
   ]
  },
  {
   "cell_type": "code",
   "execution_count": 24,
   "metadata": {},
   "outputs": [
    {
     "data": {
      "text/html": [
       "<table>\n",
       "<thead><tr><th scope=col>n</th></tr></thead>\n",
       "<tbody>\n",
       "\t<tr><td>GNAI3  </td></tr>\n",
       "\t<tr><td>CDC45  </td></tr>\n",
       "\t<tr><td>CAV2   </td></tr>\n",
       "\t<tr><td>KLF6   </td></tr>\n",
       "\t<tr><td>COX5A  </td></tr>\n",
       "\t<tr><td>FER    </td></tr>\n",
       "\t<tr><td>XPO6   </td></tr>\n",
       "\t<tr><td>TFE3   </td></tr>\n",
       "\t<tr><td>AXIN2  </td></tr>\n",
       "\t<tr><td>GNA12  </td></tr>\n",
       "\t<tr><td>DLAT   </td></tr>\n",
       "\t<tr><td>SDHD   </td></tr>\n",
       "\t<tr><td>CCND2  </td></tr>\n",
       "\t<tr><td>GPR107 </td></tr>\n",
       "\t<tr><td>NALCN  </td></tr>\n",
       "\t<tr><td>TSPAN32</td></tr>\n",
       "\t<tr><td>MID2   </td></tr>\n",
       "\t<tr><td>TRIM25 </td></tr>\n",
       "\t<tr><td>DGKE   </td></tr>\n",
       "\t<tr><td>SCPEP1 </td></tr>\n",
       "\t<tr><td>MNT    </td></tr>\n",
       "\t<tr><td>ITGB2  </td></tr>\n",
       "\t<tr><td>HDDC2  </td></tr>\n",
       "\t<tr><td>CKMT1  </td></tr>\n",
       "\t<tr><td>COMT   </td></tr>\n",
       "\t<tr><td>RTCA   </td></tr>\n",
       "\t<tr><td>DBT    </td></tr>\n",
       "\t<tr><td>DAZAP2 </td></tr>\n",
       "\t<tr><td>MCTS1  </td></tr>\n",
       "\t<tr><td>RNF17  </td></tr>\n",
       "\t<tr><td>⋮</td></tr>\n",
       "\t<tr><td>GM44639      </td></tr>\n",
       "\t<tr><td>GM7443       </td></tr>\n",
       "\t<tr><td>GM44613      </td></tr>\n",
       "\t<tr><td>GM20274      </td></tr>\n",
       "\t<tr><td>GM44835      </td></tr>\n",
       "\t<tr><td>GM44695      </td></tr>\n",
       "\t<tr><td>GM44686      </td></tr>\n",
       "\t<tr><td>GM44986      </td></tr>\n",
       "\t<tr><td>GM35665      </td></tr>\n",
       "\t<tr><td>GM10616      </td></tr>\n",
       "\t<tr><td>GM37494      </td></tr>\n",
       "\t<tr><td>GM44711      </td></tr>\n",
       "\t<tr><td>GM44694      </td></tr>\n",
       "\t<tr><td>GM44920      </td></tr>\n",
       "\t<tr><td>GM17984      </td></tr>\n",
       "\t<tr><td>GM45153      </td></tr>\n",
       "\t<tr><td>GM44616      </td></tr>\n",
       "\t<tr><td>4933431G14RIK</td></tr>\n",
       "\t<tr><td>GM33027      </td></tr>\n",
       "\t<tr><td>GM44777      </td></tr>\n",
       "\t<tr><td>GM44553      </td></tr>\n",
       "\t<tr><td>GM45094      </td></tr>\n",
       "\t<tr><td>GM44894      </td></tr>\n",
       "\t<tr><td>GM44760      </td></tr>\n",
       "\t<tr><td>GM44540      </td></tr>\n",
       "\t<tr><td>GM32772      </td></tr>\n",
       "\t<tr><td>GM9521       </td></tr>\n",
       "\t<tr><td>GM39090      </td></tr>\n",
       "\t<tr><td>4930533N22RIK</td></tr>\n",
       "\t<tr><td>C130083A15RIK</td></tr>\n",
       "</tbody>\n",
       "</table>\n"
      ],
      "text/latex": [
       "\\begin{tabular}{r|l}\n",
       " n\\\\\n",
       "\\hline\n",
       "\t GNAI3  \\\\\n",
       "\t CDC45  \\\\\n",
       "\t CAV2   \\\\\n",
       "\t KLF6   \\\\\n",
       "\t COX5A  \\\\\n",
       "\t FER    \\\\\n",
       "\t XPO6   \\\\\n",
       "\t TFE3   \\\\\n",
       "\t AXIN2  \\\\\n",
       "\t GNA12  \\\\\n",
       "\t DLAT   \\\\\n",
       "\t SDHD   \\\\\n",
       "\t CCND2  \\\\\n",
       "\t GPR107 \\\\\n",
       "\t NALCN  \\\\\n",
       "\t TSPAN32\\\\\n",
       "\t MID2   \\\\\n",
       "\t TRIM25 \\\\\n",
       "\t DGKE   \\\\\n",
       "\t SCPEP1 \\\\\n",
       "\t MNT    \\\\\n",
       "\t ITGB2  \\\\\n",
       "\t HDDC2  \\\\\n",
       "\t CKMT1  \\\\\n",
       "\t COMT   \\\\\n",
       "\t RTCA   \\\\\n",
       "\t DBT    \\\\\n",
       "\t DAZAP2 \\\\\n",
       "\t MCTS1  \\\\\n",
       "\t RNF17  \\\\\n",
       "\t ⋮\\\\\n",
       "\t GM44639      \\\\\n",
       "\t GM7443       \\\\\n",
       "\t GM44613      \\\\\n",
       "\t GM20274      \\\\\n",
       "\t GM44835      \\\\\n",
       "\t GM44695      \\\\\n",
       "\t GM44686      \\\\\n",
       "\t GM44986      \\\\\n",
       "\t GM35665      \\\\\n",
       "\t GM10616      \\\\\n",
       "\t GM37494      \\\\\n",
       "\t GM44711      \\\\\n",
       "\t GM44694      \\\\\n",
       "\t GM44920      \\\\\n",
       "\t GM17984      \\\\\n",
       "\t GM45153      \\\\\n",
       "\t GM44616      \\\\\n",
       "\t 4933431G14RIK\\\\\n",
       "\t GM33027      \\\\\n",
       "\t GM44777      \\\\\n",
       "\t GM44553      \\\\\n",
       "\t GM45094      \\\\\n",
       "\t GM44894      \\\\\n",
       "\t GM44760      \\\\\n",
       "\t GM44540      \\\\\n",
       "\t GM32772      \\\\\n",
       "\t GM9521       \\\\\n",
       "\t GM39090      \\\\\n",
       "\t 4930533N22RIK\\\\\n",
       "\t C130083A15RIK\\\\\n",
       "\\end{tabular}\n"
      ],
      "text/markdown": [
       "\n",
       "n | \n",
       "|---|---|---|---|---|---|---|---|---|---|---|---|---|---|---|---|---|---|---|---|---|---|---|---|---|---|---|---|---|---|---|---|---|---|---|---|---|---|---|---|---|---|---|---|---|---|---|---|---|---|---|---|---|---|---|---|---|---|---|---|---|\n",
       "| GNAI3   | \n",
       "| CDC45   | \n",
       "| CAV2    | \n",
       "| KLF6    | \n",
       "| COX5A   | \n",
       "| FER     | \n",
       "| XPO6    | \n",
       "| TFE3    | \n",
       "| AXIN2   | \n",
       "| GNA12   | \n",
       "| DLAT    | \n",
       "| SDHD    | \n",
       "| CCND2   | \n",
       "| GPR107  | \n",
       "| NALCN   | \n",
       "| TSPAN32 | \n",
       "| MID2    | \n",
       "| TRIM25  | \n",
       "| DGKE    | \n",
       "| SCPEP1  | \n",
       "| MNT     | \n",
       "| ITGB2   | \n",
       "| HDDC2   | \n",
       "| CKMT1   | \n",
       "| COMT    | \n",
       "| RTCA    | \n",
       "| DBT     | \n",
       "| DAZAP2  | \n",
       "| MCTS1   | \n",
       "| RNF17   | \n",
       "| ⋮ | \n",
       "| GM44639       | \n",
       "| GM7443        | \n",
       "| GM44613       | \n",
       "| GM20274       | \n",
       "| GM44835       | \n",
       "| GM44695       | \n",
       "| GM44686       | \n",
       "| GM44986       | \n",
       "| GM35665       | \n",
       "| GM10616       | \n",
       "| GM37494       | \n",
       "| GM44711       | \n",
       "| GM44694       | \n",
       "| GM44920       | \n",
       "| GM17984       | \n",
       "| GM45153       | \n",
       "| GM44616       | \n",
       "| 4933431G14RIK | \n",
       "| GM33027       | \n",
       "| GM44777       | \n",
       "| GM44553       | \n",
       "| GM45094       | \n",
       "| GM44894       | \n",
       "| GM44760       | \n",
       "| GM44540       | \n",
       "| GM32772       | \n",
       "| GM9521        | \n",
       "| GM39090       | \n",
       "| 4930533N22RIK | \n",
       "| C130083A15RIK | \n",
       "\n",
       "\n"
      ],
      "text/plain": [
       "      n            \n",
       "1     GNAI3        \n",
       "2     CDC45        \n",
       "3     CAV2         \n",
       "4     KLF6         \n",
       "5     COX5A        \n",
       "6     FER          \n",
       "7     XPO6         \n",
       "8     TFE3         \n",
       "9     AXIN2        \n",
       "10    GNA12        \n",
       "11    DLAT         \n",
       "12    SDHD         \n",
       "13    CCND2        \n",
       "14    GPR107       \n",
       "15    NALCN        \n",
       "16    TSPAN32      \n",
       "17    MID2         \n",
       "18    TRIM25       \n",
       "19    DGKE         \n",
       "20    SCPEP1       \n",
       "21    MNT          \n",
       "22    ITGB2        \n",
       "23    HDDC2        \n",
       "24    CKMT1        \n",
       "25    COMT         \n",
       "26    RTCA         \n",
       "27    DBT          \n",
       "28    DAZAP2       \n",
       "29    MCTS1        \n",
       "30    RNF17        \n",
       "⋮     ⋮            \n",
       "12500 GM44639      \n",
       "12501 GM7443       \n",
       "12502 GM44613      \n",
       "12503 GM20274      \n",
       "12504 GM44835      \n",
       "12505 GM44695      \n",
       "12506 GM44686      \n",
       "12507 GM44986      \n",
       "12508 GM35665      \n",
       "12509 GM10616      \n",
       "12510 GM37494      \n",
       "12511 GM44711      \n",
       "12512 GM44694      \n",
       "12513 GM44920      \n",
       "12514 GM17984      \n",
       "12515 GM45153      \n",
       "12516 GM44616      \n",
       "12517 4933431G14RIK\n",
       "12518 GM33027      \n",
       "12519 GM44777      \n",
       "12520 GM44553      \n",
       "12521 GM45094      \n",
       "12522 GM44894      \n",
       "12523 GM44760      \n",
       "12524 GM44540      \n",
       "12525 GM32772      \n",
       "12526 GM9521       \n",
       "12527 GM39090      \n",
       "12528 4930533N22RIK\n",
       "12529 C130083A15RIK"
      ]
     },
     "metadata": {},
     "output_type": "display_data"
    }
   ],
   "source": [
    "name"
   ]
  },
  {
   "cell_type": "code",
   "execution_count": 25,
   "metadata": {},
   "outputs": [],
   "source": [
    "med1 = med[,-1]"
   ]
  },
  {
   "cell_type": "code",
   "execution_count": 31,
   "metadata": {},
   "outputs": [],
   "source": [
    "colnames(name) <- c(\"Name\")"
   ]
  },
  {
   "cell_type": "code",
   "execution_count": 32,
   "metadata": {},
   "outputs": [],
   "source": [
    "med <- cbind(name, med1)"
   ]
  },
  {
   "cell_type": "code",
   "execution_count": 33,
   "metadata": {},
   "outputs": [
    {
     "data": {
      "text/html": [
       "<table>\n",
       "<thead><tr><th scope=col>Name</th><th scope=col>Description</th><th scope=col>KO</th><th scope=col>WT</th></tr></thead>\n",
       "<tbody>\n",
       "\t<tr><td>GNAI3      </td><td>NA         </td><td>212.68553  </td><td> 256.712136</td></tr>\n",
       "\t<tr><td>CDC45      </td><td>NA         </td><td> 23.47954  </td><td>   5.865734</td></tr>\n",
       "\t<tr><td>CAV2       </td><td>NA         </td><td>  0.00000  </td><td>   6.670835</td></tr>\n",
       "\t<tr><td>KLF6       </td><td>NA         </td><td>420.67516  </td><td>1108.623779</td></tr>\n",
       "\t<tr><td>COX5A      </td><td>NA         </td><td> 14.87038  </td><td>  36.804607</td></tr>\n",
       "\t<tr><td>FER        </td><td>NA         </td><td>  0.00000  </td><td>   5.175648</td></tr>\n",
       "</tbody>\n",
       "</table>\n"
      ],
      "text/latex": [
       "\\begin{tabular}{r|llll}\n",
       " Name & Description & KO & WT\\\\\n",
       "\\hline\n",
       "\t GNAI3       & NA          & 212.68553   &  256.712136\\\\\n",
       "\t CDC45       & NA          &  23.47954   &    5.865734\\\\\n",
       "\t CAV2        & NA          &   0.00000   &    6.670835\\\\\n",
       "\t KLF6        & NA          & 420.67516   & 1108.623779\\\\\n",
       "\t COX5A       & NA          &  14.87038   &   36.804607\\\\\n",
       "\t FER         & NA          &   0.00000   &    5.175648\\\\\n",
       "\\end{tabular}\n"
      ],
      "text/markdown": [
       "\n",
       "Name | Description | KO | WT | \n",
       "|---|---|---|---|---|---|\n",
       "| GNAI3       | NA          | 212.68553   |  256.712136 | \n",
       "| CDC45       | NA          |  23.47954   |    5.865734 | \n",
       "| CAV2        | NA          |   0.00000   |    6.670835 | \n",
       "| KLF6        | NA          | 420.67516   | 1108.623779 | \n",
       "| COX5A       | NA          |  14.87038   |   36.804607 | \n",
       "| FER         | NA          |   0.00000   |    5.175648 | \n",
       "\n",
       "\n"
      ],
      "text/plain": [
       "  Name  Description KO        WT         \n",
       "1 GNAI3 NA          212.68553  256.712136\n",
       "2 CDC45 NA           23.47954    5.865734\n",
       "3 CAV2  NA            0.00000    6.670835\n",
       "4 KLF6  NA          420.67516 1108.623779\n",
       "5 COX5A NA           14.87038   36.804607\n",
       "6 FER   NA            0.00000    5.175648"
      ]
     },
     "metadata": {},
     "output_type": "display_data"
    }
   ],
   "source": [
    "head(med)"
   ]
  },
  {
   "cell_type": "code",
   "execution_count": 36,
   "metadata": {},
   "outputs": [],
   "source": [
    "setwd(\"/mnt/d/Common/project/yangyangli/GSEA-med23\")"
   ]
  },
  {
   "cell_type": "code",
   "execution_count": 45,
   "metadata": {},
   "outputs": [],
   "source": [
    "write.table(med, \"med_upper.txt\", sep = \"\\t\", quote = F, row.names = F)"
   ]
  },
  {
   "cell_type": "code",
   "execution_count": 40,
   "metadata": {},
   "outputs": [
    {
     "data": {
      "text/html": [
       "<table>\n",
       "<thead><tr><th scope=col>Name</th><th scope=col>Description</th><th scope=col>KO</th><th scope=col>WT</th></tr></thead>\n",
       "<tbody>\n",
       "\t<tr><td>GNAI3      </td><td>NA         </td><td>212.68553  </td><td> 256.712136</td></tr>\n",
       "\t<tr><td>CDC45      </td><td>NA         </td><td> 23.47954  </td><td>   5.865734</td></tr>\n",
       "\t<tr><td>CAV2       </td><td>NA         </td><td>  0.00000  </td><td>   6.670835</td></tr>\n",
       "\t<tr><td>KLF6       </td><td>NA         </td><td>420.67516  </td><td>1108.623779</td></tr>\n",
       "\t<tr><td>COX5A      </td><td>NA         </td><td> 14.87038  </td><td>  36.804607</td></tr>\n",
       "\t<tr><td>FER        </td><td>NA         </td><td>  0.00000  </td><td>   5.175648</td></tr>\n",
       "</tbody>\n",
       "</table>\n"
      ],
      "text/latex": [
       "\\begin{tabular}{r|llll}\n",
       " Name & Description & KO & WT\\\\\n",
       "\\hline\n",
       "\t GNAI3       & NA          & 212.68553   &  256.712136\\\\\n",
       "\t CDC45       & NA          &  23.47954   &    5.865734\\\\\n",
       "\t CAV2        & NA          &   0.00000   &    6.670835\\\\\n",
       "\t KLF6        & NA          & 420.67516   & 1108.623779\\\\\n",
       "\t COX5A       & NA          &  14.87038   &   36.804607\\\\\n",
       "\t FER         & NA          &   0.00000   &    5.175648\\\\\n",
       "\\end{tabular}\n"
      ],
      "text/markdown": [
       "\n",
       "Name | Description | KO | WT | \n",
       "|---|---|---|---|---|---|\n",
       "| GNAI3       | NA          | 212.68553   |  256.712136 | \n",
       "| CDC45       | NA          |  23.47954   |    5.865734 | \n",
       "| CAV2        | NA          |   0.00000   |    6.670835 | \n",
       "| KLF6        | NA          | 420.67516   | 1108.623779 | \n",
       "| COX5A       | NA          |  14.87038   |   36.804607 | \n",
       "| FER         | NA          |   0.00000   |    5.175648 | \n",
       "\n",
       "\n"
      ],
      "text/plain": [
       "  Name  Description KO        WT         \n",
       "1 GNAI3 NA          212.68553  256.712136\n",
       "2 CDC45 NA           23.47954    5.865734\n",
       "3 CAV2  NA            0.00000    6.670835\n",
       "4 KLF6  NA          420.67516 1108.623779\n",
       "5 COX5A NA           14.87038   36.804607\n",
       "6 FER   NA            0.00000    5.175648"
      ]
     },
     "metadata": {},
     "output_type": "display_data"
    }
   ],
   "source": [
    "head(med)"
   ]
  },
  {
   "cell_type": "code",
   "execution_count": null,
   "metadata": {},
   "outputs": [],
   "source": []
  }
 ],
 "metadata": {
  "kernelspec": {
   "display_name": "R",
   "language": "R",
   "name": "ir"
  },
  "language_info": {
   "codemirror_mode": "r",
   "file_extension": ".r",
   "mimetype": "text/x-r-source",
   "name": "R",
   "pygments_lexer": "r",
   "version": "3.5.1"
  }
 },
 "nbformat": 4,
 "nbformat_minor": 2
}
