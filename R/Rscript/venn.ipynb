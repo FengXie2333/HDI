{
 "cells": [
  {
   "cell_type": "code",
   "execution_count": 2,
   "metadata": {},
   "outputs": [
    {
     "name": "stderr",
     "output_type": "stream",
     "text": [
      "Loading required package: grid\n",
      "Loading required package: futile.logger\n"
     ]
    }
   ],
   "source": [
    "library(dplyr)\n",
    "#library(gplot2)\n",
    "library(VennDiagram)"
   ]
  },
  {
   "cell_type": "code",
   "execution_count": 4,
   "metadata": {},
   "outputs": [],
   "source": [
    "setwd(\"/mnt/d/Common/project/yangyangli\")"
   ]
  },
  {
   "cell_type": "code",
   "execution_count": 6,
   "metadata": {},
   "outputs": [],
   "source": [
    "med <- read.csv(\"Med23_p0.005_KO_WT.DEG_differential.csv\", header=T)"
   ]
  },
  {
   "cell_type": "code",
   "execution_count": 7,
   "metadata": {},
   "outputs": [],
   "source": [
    "pparg <- read.csv(\"gene_different_Pparg_KO_WT.csv\", header=T)"
   ]
  },
  {
   "cell_type": "code",
   "execution_count": 8,
   "metadata": {},
   "outputs": [
    {
     "data": {
      "text/html": [
       "<table>\n",
       "<thead><tr><th scope=col>ID</th><th scope=col>readcount_KO_Treg</th><th scope=col>readcount_WT_Treg</th><th scope=col>logFC</th><th scope=col>p.value</th><th scope=col>qvalue</th><th scope=col>signature</th><th scope=col>change</th><th scope=col>Name</th></tr></thead>\n",
       "<tbody>\n",
       "\t<tr><td>ENSMUSG00000000001</td><td>212.68553         </td><td> 256.712136       </td><td>-0.27143          </td><td>8.0962e-01        </td><td>2.4806e-01        </td><td>FALSE             </td><td>NOT               </td><td>Gnai3             </td></tr>\n",
       "\t<tr><td>ENSMUSG00000000028</td><td> 23.47954         </td><td>   5.865734       </td><td> 2.00100          </td><td>1.0441e-04        </td><td>9.4600e-05        </td><td> TRUE             </td><td>UP                </td><td>Cdc45             </td></tr>\n",
       "\t<tr><td>ENSMUSG00000000058</td><td>  0.00000         </td><td>   6.670835       </td><td>-3.73790          </td><td>2.2542e-02        </td><td>1.1390e-02        </td><td>FALSE             </td><td>NOT               </td><td>Cav2              </td></tr>\n",
       "\t<tr><td>ENSMUSG00000000078</td><td>420.67516         </td><td>1108.623779       </td><td>-1.39800          </td><td>6.4800e-45        </td><td>1.4800e-43        </td><td> TRUE             </td><td>DOWN              </td><td>Klf6              </td></tr>\n",
       "\t<tr><td>ENSMUSG00000000088</td><td> 14.87038         </td><td>  36.804607       </td><td>-1.30740          </td><td>1.7004e-02        </td><td>8.9349e-03        </td><td>FALSE             </td><td>NOT               </td><td>Cox5a             </td></tr>\n",
       "\t<tr><td>ENSMUSG00000000127</td><td>  0.00000         </td><td>   5.175648       </td><td>-3.37170          </td><td>5.5794e-02        </td><td>2.5130e-02        </td><td>FALSE             </td><td>NOT               </td><td>Fer               </td></tr>\n",
       "</tbody>\n",
       "</table>\n"
      ],
      "text/latex": [
       "\\begin{tabular}{r|lllllllll}\n",
       " ID & readcount\\_KO\\_Treg & readcount\\_WT\\_Treg & logFC & p.value & qvalue & signature & change & Name\\\\\n",
       "\\hline\n",
       "\t ENSMUSG00000000001 & 212.68553          &  256.712136        & -0.27143           & 8.0962e-01         & 2.4806e-01         & FALSE              & NOT                & Gnai3             \\\\\n",
       "\t ENSMUSG00000000028 &  23.47954          &    5.865734        &  2.00100           & 1.0441e-04         & 9.4600e-05         &  TRUE              & UP                 & Cdc45             \\\\\n",
       "\t ENSMUSG00000000058 &   0.00000          &    6.670835        & -3.73790           & 2.2542e-02         & 1.1390e-02         & FALSE              & NOT                & Cav2              \\\\\n",
       "\t ENSMUSG00000000078 & 420.67516          & 1108.623779        & -1.39800           & 6.4800e-45         & 1.4800e-43         &  TRUE              & DOWN               & Klf6              \\\\\n",
       "\t ENSMUSG00000000088 &  14.87038          &   36.804607        & -1.30740           & 1.7004e-02         & 8.9349e-03         & FALSE              & NOT                & Cox5a             \\\\\n",
       "\t ENSMUSG00000000127 &   0.00000          &    5.175648        & -3.37170           & 5.5794e-02         & 2.5130e-02         & FALSE              & NOT                & Fer               \\\\\n",
       "\\end{tabular}\n"
      ],
      "text/markdown": [
       "\n",
       "ID | readcount_KO_Treg | readcount_WT_Treg | logFC | p.value | qvalue | signature | change | Name | \n",
       "|---|---|---|---|---|---|\n",
       "| ENSMUSG00000000001 | 212.68553          |  256.712136        | -0.27143           | 8.0962e-01         | 2.4806e-01         | FALSE              | NOT                | Gnai3              | \n",
       "| ENSMUSG00000000028 |  23.47954          |    5.865734        |  2.00100           | 1.0441e-04         | 9.4600e-05         |  TRUE              | UP                 | Cdc45              | \n",
       "| ENSMUSG00000000058 |   0.00000          |    6.670835        | -3.73790           | 2.2542e-02         | 1.1390e-02         | FALSE              | NOT                | Cav2               | \n",
       "| ENSMUSG00000000078 | 420.67516          | 1108.623779        | -1.39800           | 6.4800e-45         | 1.4800e-43         |  TRUE              | DOWN               | Klf6               | \n",
       "| ENSMUSG00000000088 |  14.87038          |   36.804607        | -1.30740           | 1.7004e-02         | 8.9349e-03         | FALSE              | NOT                | Cox5a              | \n",
       "| ENSMUSG00000000127 |   0.00000          |    5.175648        | -3.37170           | 5.5794e-02         | 2.5130e-02         | FALSE              | NOT                | Fer                | \n",
       "\n",
       "\n"
      ],
      "text/plain": [
       "  ID                 readcount_KO_Treg readcount_WT_Treg logFC    p.value   \n",
       "1 ENSMUSG00000000001 212.68553          256.712136       -0.27143 8.0962e-01\n",
       "2 ENSMUSG00000000028  23.47954            5.865734        2.00100 1.0441e-04\n",
       "3 ENSMUSG00000000058   0.00000            6.670835       -3.73790 2.2542e-02\n",
       "4 ENSMUSG00000000078 420.67516         1108.623779       -1.39800 6.4800e-45\n",
       "5 ENSMUSG00000000088  14.87038           36.804607       -1.30740 1.7004e-02\n",
       "6 ENSMUSG00000000127   0.00000            5.175648       -3.37170 5.5794e-02\n",
       "  qvalue     signature change Name \n",
       "1 2.4806e-01 FALSE     NOT    Gnai3\n",
       "2 9.4600e-05  TRUE     UP     Cdc45\n",
       "3 1.1390e-02 FALSE     NOT    Cav2 \n",
       "4 1.4800e-43  TRUE     DOWN   Klf6 \n",
       "5 8.9349e-03 FALSE     NOT    Cox5a\n",
       "6 2.5130e-02 FALSE     NOT    Fer  "
      ]
     },
     "metadata": {},
     "output_type": "display_data"
    }
   ],
   "source": [
    "head(med)"
   ]
  },
  {
   "cell_type": "code",
   "execution_count": 9,
   "metadata": {},
   "outputs": [
    {
     "data": {
      "text/html": [
       "<table>\n",
       "<thead><tr><th scope=col>ID</th><th scope=col>adj.P.Val</th><th scope=col>P.Value</th><th scope=col>t</th><th scope=col>B</th><th scope=col>logFC</th><th scope=col>Gene.symbol</th><th scope=col>Gene.title</th><th scope=col>change</th></tr></thead>\n",
       "<tbody>\n",
       "\t<tr><td>10587733                                      </td><td>1.16e-08                                      </td><td>4.61e-13                                      </td><td>-41.97621                                     </td><td>17.70298                                      </td><td>-3.720082                                     </td><td>Ctsh                                          </td><td>cathepsin H                                   </td><td>DOWN                                          </td></tr>\n",
       "\t<tr><td>10598004                                      </td><td>6.04e-07                                      </td><td>4.80e-11                                      </td><td>-26.89366                                     </td><td>14.96378                                      </td><td>-3.844099                                     </td><td>Ccr1                                          </td><td>chemokine (C-C motif) receptor 1              </td><td>DOWN                                          </td></tr>\n",
       "\t<tr><td>10523156                                      </td><td>9.30e-07                                      </td><td>1.31e-10                                      </td><td>-24.41350                                     </td><td>14.23178                                      </td><td>-4.189253                                     </td><td>Cxcl2                                         </td><td>chemokine (C-X-C motif) ligand 2              </td><td>DOWN                                          </td></tr>\n",
       "\t<tr><td>10386211                                      </td><td>9.30e-07                                      </td><td>2.03e-10                                      </td><td>-23.39578                                     </td><td>13.89602                                      </td><td>-2.059401                                     </td><td>Fam183b                                       </td><td>family with sequence similarity 183, member B </td><td>DOWN                                          </td></tr>\n",
       "\t<tr><td>10590628                                      </td><td>9.30e-07                                      </td><td>2.19e-10                                      </td><td>-23.22878                                     </td><td>13.83875                                      </td><td>-3.280734                                     </td><td>Ccr3                                          </td><td>chemokine (C-C motif) receptor 3              </td><td>DOWN                                          </td></tr>\n",
       "\t<tr><td>10396608                                      </td><td>9.30e-07                                      </td><td>2.21e-10                                      </td><td>-23.20395                                     </td><td>13.83018                                      </td><td>-2.411478                                     </td><td>Syne2                                         </td><td>spectrin repeat containing, nuclear envelope 2</td><td>DOWN                                          </td></tr>\n",
       "</tbody>\n",
       "</table>\n"
      ],
      "text/latex": [
       "\\begin{tabular}{r|lllllllll}\n",
       " ID & adj.P.Val & P.Value & t & B & logFC & Gene.symbol & Gene.title & change\\\\\n",
       "\\hline\n",
       "\t 10587733                                       & 1.16e-08                                       & 4.61e-13                                       & -41.97621                                      & 17.70298                                       & -3.720082                                      & Ctsh                                           & cathepsin H                                    & DOWN                                          \\\\\n",
       "\t 10598004                                       & 6.04e-07                                       & 4.80e-11                                       & -26.89366                                      & 14.96378                                       & -3.844099                                      & Ccr1                                           & chemokine (C-C motif) receptor 1               & DOWN                                          \\\\\n",
       "\t 10523156                                       & 9.30e-07                                       & 1.31e-10                                       & -24.41350                                      & 14.23178                                       & -4.189253                                      & Cxcl2                                          & chemokine (C-X-C motif) ligand 2               & DOWN                                          \\\\\n",
       "\t 10386211                                       & 9.30e-07                                       & 2.03e-10                                       & -23.39578                                      & 13.89602                                       & -2.059401                                      & Fam183b                                        & family with sequence similarity 183, member B  & DOWN                                          \\\\\n",
       "\t 10590628                                       & 9.30e-07                                       & 2.19e-10                                       & -23.22878                                      & 13.83875                                       & -3.280734                                      & Ccr3                                           & chemokine (C-C motif) receptor 3               & DOWN                                          \\\\\n",
       "\t 10396608                                       & 9.30e-07                                       & 2.21e-10                                       & -23.20395                                      & 13.83018                                       & -2.411478                                      & Syne2                                          & spectrin repeat containing, nuclear envelope 2 & DOWN                                          \\\\\n",
       "\\end{tabular}\n"
      ],
      "text/markdown": [
       "\n",
       "ID | adj.P.Val | P.Value | t | B | logFC | Gene.symbol | Gene.title | change | \n",
       "|---|---|---|---|---|---|\n",
       "| 10587733                                       | 1.16e-08                                       | 4.61e-13                                       | -41.97621                                      | 17.70298                                       | -3.720082                                      | Ctsh                                           | cathepsin H                                    | DOWN                                           | \n",
       "| 10598004                                       | 6.04e-07                                       | 4.80e-11                                       | -26.89366                                      | 14.96378                                       | -3.844099                                      | Ccr1                                           | chemokine (C-C motif) receptor 1               | DOWN                                           | \n",
       "| 10523156                                       | 9.30e-07                                       | 1.31e-10                                       | -24.41350                                      | 14.23178                                       | -4.189253                                      | Cxcl2                                          | chemokine (C-X-C motif) ligand 2               | DOWN                                           | \n",
       "| 10386211                                       | 9.30e-07                                       | 2.03e-10                                       | -23.39578                                      | 13.89602                                       | -2.059401                                      | Fam183b                                        | family with sequence similarity 183, member B  | DOWN                                           | \n",
       "| 10590628                                       | 9.30e-07                                       | 2.19e-10                                       | -23.22878                                      | 13.83875                                       | -3.280734                                      | Ccr3                                           | chemokine (C-C motif) receptor 3               | DOWN                                           | \n",
       "| 10396608                                       | 9.30e-07                                       | 2.21e-10                                       | -23.20395                                      | 13.83018                                       | -2.411478                                      | Syne2                                          | spectrin repeat containing, nuclear envelope 2 | DOWN                                           | \n",
       "\n",
       "\n"
      ],
      "text/plain": [
       "  ID       adj.P.Val P.Value  t         B        logFC     Gene.symbol\n",
       "1 10587733 1.16e-08  4.61e-13 -41.97621 17.70298 -3.720082 Ctsh       \n",
       "2 10598004 6.04e-07  4.80e-11 -26.89366 14.96378 -3.844099 Ccr1       \n",
       "3 10523156 9.30e-07  1.31e-10 -24.41350 14.23178 -4.189253 Cxcl2      \n",
       "4 10386211 9.30e-07  2.03e-10 -23.39578 13.89602 -2.059401 Fam183b    \n",
       "5 10590628 9.30e-07  2.19e-10 -23.22878 13.83875 -3.280734 Ccr3       \n",
       "6 10396608 9.30e-07  2.21e-10 -23.20395 13.83018 -2.411478 Syne2      \n",
       "  Gene.title                                     change\n",
       "1 cathepsin H                                    DOWN  \n",
       "2 chemokine (C-C motif) receptor 1               DOWN  \n",
       "3 chemokine (C-X-C motif) ligand 2               DOWN  \n",
       "4 family with sequence similarity 183, member B  DOWN  \n",
       "5 chemokine (C-C motif) receptor 3               DOWN  \n",
       "6 spectrin repeat containing, nuclear envelope 2 DOWN  "
      ]
     },
     "metadata": {},
     "output_type": "display_data"
    }
   ],
   "source": [
    "head(pparg)"
   ]
  },
  {
   "cell_type": "code",
   "execution_count": 10,
   "metadata": {},
   "outputs": [],
   "source": [
    "med <- med[,c(8,9)]\n",
    "pparg <- pparg[,c(7,9)]"
   ]
  },
  {
   "cell_type": "code",
   "execution_count": 11,
   "metadata": {},
   "outputs": [
    {
     "data": {
      "text/html": [
       "<ol class=list-inline>\n",
       "\t<li>12503</li>\n",
       "\t<li>2</li>\n",
       "</ol>\n"
      ],
      "text/latex": [
       "\\begin{enumerate*}\n",
       "\\item 12503\n",
       "\\item 2\n",
       "\\end{enumerate*}\n"
      ],
      "text/markdown": [
       "1. 12503\n",
       "2. 2\n",
       "\n",
       "\n"
      ],
      "text/plain": [
       "[1] 12503     2"
      ]
     },
     "metadata": {},
     "output_type": "display_data"
    },
    {
     "data": {
      "text/html": [
       "<ol class=list-inline>\n",
       "\t<li>25194</li>\n",
       "\t<li>2</li>\n",
       "</ol>\n"
      ],
      "text/latex": [
       "\\begin{enumerate*}\n",
       "\\item 25194\n",
       "\\item 2\n",
       "\\end{enumerate*}\n"
      ],
      "text/markdown": [
       "1. 25194\n",
       "2. 2\n",
       "\n",
       "\n"
      ],
      "text/plain": [
       "[1] 25194     2"
      ]
     },
     "metadata": {},
     "output_type": "display_data"
    }
   ],
   "source": [
    "dim(med)\n",
    "dim(pparg)"
   ]
  },
  {
   "cell_type": "code",
   "execution_count": 12,
   "metadata": {},
   "outputs": [],
   "source": [
    "pparg[pparg == ''] <- NA\n",
    "med[med == ''] <- NA"
   ]
  },
  {
   "cell_type": "code",
   "execution_count": 13,
   "metadata": {},
   "outputs": [],
   "source": [
    "med <-na.omit(med)\n",
    "pparg <- na.omit(pparg)"
   ]
  },
  {
   "cell_type": "code",
   "execution_count": 14,
   "metadata": {},
   "outputs": [
    {
     "data": {
      "text/html": [
       "<ol class=list-inline>\n",
       "\t<li>12503</li>\n",
       "\t<li>2</li>\n",
       "</ol>\n"
      ],
      "text/latex": [
       "\\begin{enumerate*}\n",
       "\\item 12503\n",
       "\\item 2\n",
       "\\end{enumerate*}\n"
      ],
      "text/markdown": [
       "1. 12503\n",
       "2. 2\n",
       "\n",
       "\n"
      ],
      "text/plain": [
       "[1] 12503     2"
      ]
     },
     "metadata": {},
     "output_type": "display_data"
    },
    {
     "data": {
      "text/html": [
       "<ol class=list-inline>\n",
       "\t<li>23269</li>\n",
       "\t<li>2</li>\n",
       "</ol>\n"
      ],
      "text/latex": [
       "\\begin{enumerate*}\n",
       "\\item 23269\n",
       "\\item 2\n",
       "\\end{enumerate*}\n"
      ],
      "text/markdown": [
       "1. 23269\n",
       "2. 2\n",
       "\n",
       "\n"
      ],
      "text/plain": [
       "[1] 23269     2"
      ]
     },
     "metadata": {},
     "output_type": "display_data"
    }
   ],
   "source": [
    "dim(med)\n",
    "dim(pparg)"
   ]
  },
  {
   "cell_type": "code",
   "execution_count": 15,
   "metadata": {},
   "outputs": [],
   "source": [
    "med_d <-  unique(med$Name[med$change == \"DOWN\"])\n",
    "pparg_d <- unique(pparg$Gene.symbol[pparg$change == \"DOWN\"])"
   ]
  },
  {
   "cell_type": "code",
   "execution_count": 16,
   "metadata": {},
   "outputs": [
    {
     "data": {
      "text/html": [
       "2373"
      ],
      "text/latex": [
       "2373"
      ],
      "text/markdown": [
       "2373"
      ],
      "text/plain": [
       "[1] 2373"
      ]
     },
     "metadata": {},
     "output_type": "display_data"
    },
    {
     "data": {
      "text/html": [
       "137"
      ],
      "text/latex": [
       "137"
      ],
      "text/markdown": [
       "137"
      ],
      "text/plain": [
       "[1] 137"
      ]
     },
     "metadata": {},
     "output_type": "display_data"
    }
   ],
   "source": [
    "length(med_d)\n",
    "length(pparg_d)"
   ]
  },
  {
   "cell_type": "code",
   "execution_count": 17,
   "metadata": {},
   "outputs": [],
   "source": [
    "color_v <- c(\"dodgerblue3\", \"firebrick2\")\n",
    "#color_v <- c(\"dodgerblue\", \"goldenrod1\", \"darkorange1\", \"seagreen3\", \"orchid3\")"
   ]
  },
  {
   "cell_type": "code",
   "execution_count": 19,
   "metadata": {},
   "outputs": [
    {
     "data": {
      "text/html": [
       "<strong>png:</strong> 2"
      ],
      "text/latex": [
       "\\textbf{png:} 2"
      ],
      "text/markdown": [
       "**png:** 2"
      ],
      "text/plain": [
       "png \n",
       "  2 "
      ]
     },
     "metadata": {},
     "output_type": "display_data"
    }
   ],
   "source": [
    "pdf(file=\"veen_down_p0.005.pdf\", width=5.5, height=5.5)\n",
    "p=venn.diagram( x = list(A = med_d, B = pparg_d), filename= NULL, fill=color_v[1:2])\n",
    "grid.draw(p)\n",
    "dev.off()"
   ]
  },
  {
   "cell_type": "code",
   "execution_count": 21,
   "metadata": {},
   "outputs": [],
   "source": [
    "down <- as.matrix(intersect(med_d, pparg_d))"
   ]
  },
  {
   "cell_type": "code",
   "execution_count": 22,
   "metadata": {},
   "outputs": [],
   "source": [
    "med_u <- unique(med$Name[med$change == \"UP\"])\n",
    "pparg_u <- unique(pparg$Gene.symbol[pparg$change == \"UP\"])"
   ]
  },
  {
   "cell_type": "code",
   "execution_count": 23,
   "metadata": {},
   "outputs": [
    {
     "data": {
      "text/html": [
       "2426"
      ],
      "text/latex": [
       "2426"
      ],
      "text/markdown": [
       "2426"
      ],
      "text/plain": [
       "[1] 2426"
      ]
     },
     "metadata": {},
     "output_type": "display_data"
    },
    {
     "data": {
      "text/html": [
       "140"
      ],
      "text/latex": [
       "140"
      ],
      "text/markdown": [
       "140"
      ],
      "text/plain": [
       "[1] 140"
      ]
     },
     "metadata": {},
     "output_type": "display_data"
    }
   ],
   "source": [
    "length(med_u)\n",
    "length(pparg_u)"
   ]
  },
  {
   "cell_type": "code",
   "execution_count": 24,
   "metadata": {},
   "outputs": [],
   "source": [
    "up <- as.matrix(intersect(med_u, pparg_u))"
   ]
  },
  {
   "cell_type": "code",
   "execution_count": 26,
   "metadata": {},
   "outputs": [
    {
     "data": {
      "text/html": [
       "<strong>png:</strong> 2"
      ],
      "text/latex": [
       "\\textbf{png:} 2"
      ],
      "text/markdown": [
       "**png:** 2"
      ],
      "text/plain": [
       "png \n",
       "  2 "
      ]
     },
     "metadata": {},
     "output_type": "display_data"
    }
   ],
   "source": [
    "pdf(file=\"veen_up_new.pdf\", width=5.5, height=5.5)\n",
    "p=venn.diagram( x = list(A = med_u, B = pparg_u), filename= NULL, fill=color_v[1:2])\n",
    "grid.draw(p)\n",
    "dev.off()"
   ]
  },
  {
   "cell_type": "code",
   "execution_count": 27,
   "metadata": {},
   "outputs": [
    {
     "data": {
      "text/html": [
       "4799"
      ],
      "text/latex": [
       "4799"
      ],
      "text/markdown": [
       "4799"
      ],
      "text/plain": [
       "[1] 4799"
      ]
     },
     "metadata": {},
     "output_type": "display_data"
    }
   ],
   "source": [
    "med <- union(med_d, med_u)\n",
    "length(med)"
   ]
  },
  {
   "cell_type": "code",
   "execution_count": 28,
   "metadata": {},
   "outputs": [
    {
     "data": {
      "text/html": [
       "277"
      ],
      "text/latex": [
       "277"
      ],
      "text/markdown": [
       "277"
      ],
      "text/plain": [
       "[1] 277"
      ]
     },
     "metadata": {},
     "output_type": "display_data"
    }
   ],
   "source": [
    "pparg <- union(pparg_d, pparg_u)\n",
    "length(pparg)"
   ]
  },
  {
   "cell_type": "code",
   "execution_count": 29,
   "metadata": {},
   "outputs": [
    {
     "data": {
      "text/html": [],
      "text/latex": [],
      "text/markdown": [],
      "text/plain": [
       "character(0)"
      ]
     },
     "metadata": {},
     "output_type": "display_data"
    }
   ],
   "source": [
    "intersect(pparg_d, pparg_u)"
   ]
  },
  {
   "cell_type": "code",
   "execution_count": 30,
   "metadata": {},
   "outputs": [
    {
     "data": {
      "text/html": [
       "<strong>png:</strong> 2"
      ],
      "text/latex": [
       "\\textbf{png:} 2"
      ],
      "text/markdown": [
       "**png:** 2"
      ],
      "text/plain": [
       "png \n",
       "  2 "
      ]
     },
     "metadata": {},
     "output_type": "display_data"
    }
   ],
   "source": [
    "pdf(file=\"veen_total_new.pdf\", width=5.5, height=5.5)\n",
    "p=venn.diagram( x = list(A = med, B = pparg), filename= NULL, fill=color_v[1:2])\n",
    "grid.draw(p)\n",
    "dev.off()"
   ]
  },
  {
   "cell_type": "code",
   "execution_count": 105,
   "metadata": {},
   "outputs": [],
   "source": [
    "setwd(\"D:/Common/project/yangyangli\")"
   ]
  },
  {
   "cell_type": "code",
   "execution_count": 114,
   "metadata": {},
   "outputs": [],
   "source": [
    "write.csv(down, \"down_med23_pparg_new.csv\", quote=F, row.names=F)"
   ]
  },
  {
   "cell_type": "code",
   "execution_count": 31,
   "metadata": {},
   "outputs": [],
   "source": [
    "write.csv(up, \"up_med23_pparg_new.csv\", quote=F, row.names=F)"
   ]
  },
  {
   "cell_type": "code",
   "execution_count": null,
   "metadata": {},
   "outputs": [],
   "source": []
  }
 ],
 "metadata": {
  "kernelspec": {
   "display_name": "R",
   "language": "R",
   "name": "ir"
  },
  "language_info": {
   "codemirror_mode": "r",
   "file_extension": ".r",
   "mimetype": "text/x-r-source",
   "name": "R",
   "pygments_lexer": "r",
   "version": "3.5.1"
  }
 },
 "nbformat": 4,
 "nbformat_minor": 2
}
