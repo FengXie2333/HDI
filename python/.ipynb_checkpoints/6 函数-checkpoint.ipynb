{
 "cells": [
  {
   "cell_type": "code",
   "execution_count": null,
   "metadata": {},
   "outputs": [],
   "source": [
    "# 迭代法写阶乘\n",
    "def  recursion(n):\n",
    "      result = n\n",
    "      for i in range(1, n):\n",
    "        result *= i\n",
    "      return result\n",
    "\n",
    "number = int(input('Please print a number:'))\n",
    "result = recursion(number)\n",
    "print (result)"
   ]
  },
  {
   "cell_type": "code",
   "execution_count": null,
   "metadata": {},
   "outputs": [],
   "source": [
    "# 递归法写阶乘\n",
    "def factoria(n):\n",
    "  if n == 1 :\n",
    "    return n\n",
    "  else :\n",
    "    return n * factoria(n-1)\n",
    "\n",
    "\n",
    "number = int(input(\"Please input a number:\"))\n",
    "result = factoria(number)\n",
    "print(result)"
   ]
  },
  {
   "cell_type": "code",
   "execution_count": null,
   "metadata": {},
   "outputs": [],
   "source": [
    "#斐波那契数列\n",
    "## 迭代法\n",
    "def fab(n):\n",
    "  a1 = 1\n",
    "  a2 = 1\n",
    "  a3 = 1\n",
    "  \n",
    "  if n < 1:\n",
    "    print(\"输入有误\")\n",
    "    return-1\n",
    "  while (n-2 > 0):\n",
    "    a3 = a1 + a2\n",
    "    a1=a2\n",
    "    a2=a3\n",
    "    n -=1\n",
    "    return a3\n",
    "\n",
    "result=fab(20)\n",
    "if result != -1:\n",
    "  print(\"总共有%d对兔子出生\" % result)"
   ]
  }
 ],
 "metadata": {
  "kernelspec": {
   "display_name": "Python 3",
   "language": "python",
   "name": "python3"
  },
  "language_info": {
   "codemirror_mode": {
    "name": "ipython",
    "version": 3
   },
   "file_extension": ".py",
   "mimetype": "text/x-python",
   "name": "python",
   "nbconvert_exporter": "python",
   "pygments_lexer": "ipython3",
   "version": "3.7.0"
  }
 },
 "nbformat": 4,
 "nbformat_minor": 2
}
