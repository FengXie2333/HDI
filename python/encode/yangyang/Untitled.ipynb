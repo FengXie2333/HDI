{
 "cells": [
  {
   "cell_type": "code",
   "execution_count": 2,
   "metadata": {},
   "outputs": [],
   "source": [
    "df <- readRDS('/mnt/d/Common/project/Seurat3.0_pancreas_v3_files/pancreas_v3_files/pancreas_metadata.rds')"
   ]
  },
  {
   "cell_type": "code",
   "execution_count": 3,
   "metadata": {},
   "outputs": [
    {
     "data": {
      "text/html": [
       "<table>\n",
       "<thead><tr><th></th><th scope=col>tech</th><th scope=col>celltype</th></tr></thead>\n",
       "<tbody>\n",
       "\t<tr><th scope=row>D101_5</th><td>celseq</td><td>gamma </td></tr>\n",
       "\t<tr><th scope=row>D101_43</th><td>celseq</td><td>gamma </td></tr>\n",
       "\t<tr><th scope=row>D101_93</th><td>celseq</td><td>gamma </td></tr>\n",
       "\t<tr><th scope=row>D102_4</th><td>celseq</td><td>gamma </td></tr>\n",
       "\t<tr><th scope=row>D172444_23</th><td>celseq</td><td>gamma </td></tr>\n",
       "\t<tr><th scope=row>D172444_68</th><td>celseq</td><td>gamma </td></tr>\n",
       "</tbody>\n",
       "</table>\n"
      ],
      "text/latex": [
       "\\begin{tabular}{r|ll}\n",
       "  & tech & celltype\\\\\n",
       "\\hline\n",
       "\tD101\\_5 & celseq & gamma \\\\\n",
       "\tD101\\_43 & celseq & gamma \\\\\n",
       "\tD101\\_93 & celseq & gamma \\\\\n",
       "\tD102\\_4 & celseq & gamma \\\\\n",
       "\tD172444\\_23 & celseq & gamma \\\\\n",
       "\tD172444\\_68 & celseq & gamma \\\\\n",
       "\\end{tabular}\n"
      ],
      "text/markdown": [
       "\n",
       "| <!--/--> | tech | celltype | \n",
       "|---|---|---|---|---|---|\n",
       "| D101_5 | celseq | gamma  | \n",
       "| D101_43 | celseq | gamma  | \n",
       "| D101_93 | celseq | gamma  | \n",
       "| D102_4 | celseq | gamma  | \n",
       "| D172444_23 | celseq | gamma  | \n",
       "| D172444_68 | celseq | gamma  | \n",
       "\n",
       "\n"
      ],
      "text/plain": [
       "           tech   celltype\n",
       "D101_5     celseq gamma   \n",
       "D101_43    celseq gamma   \n",
       "D101_93    celseq gamma   \n",
       "D102_4     celseq gamma   \n",
       "D172444_23 celseq gamma   \n",
       "D172444_68 celseq gamma   "
      ]
     },
     "metadata": {},
     "output_type": "display_data"
    }
   ],
   "source": [
    "head(df)"
   ]
  },
  {
   "cell_type": "code",
   "execution_count": 13,
   "metadata": {},
   "outputs": [],
   "source": [
    "df[df == ''] <- NA"
   ]
  },
  {
   "cell_type": "code",
   "execution_count": 14,
   "metadata": {},
   "outputs": [],
   "source": [
    "df <- na.omit(df)"
   ]
  },
  {
   "cell_type": "code",
   "execution_count": 18,
   "metadata": {},
   "outputs": [],
   "source": [
    "df <- df[c(1,2,3,18:20, 22:24)]"
   ]
  },
  {
   "cell_type": "code",
   "execution_count": null,
   "metadata": {},
   "outputs": [],
   "source": []
  }
 ],
 "metadata": {
  "kernelspec": {
   "display_name": "R",
   "language": "R",
   "name": "ir"
  },
  "language_info": {
   "codemirror_mode": "r",
   "file_extension": ".r",
   "mimetype": "text/x-r-source",
   "name": "R",
   "pygments_lexer": "r",
   "version": "3.5.1"
  }
 },
 "nbformat": 4,
 "nbformat_minor": 2
}
