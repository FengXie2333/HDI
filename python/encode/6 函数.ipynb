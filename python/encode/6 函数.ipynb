{
 "cells": [
  {
   "cell_type": "markdown",
   "metadata": {},
   "source": [
    "# 迭代法写阶乘"
   ]
  },
  {
   "cell_type": "code",
   "execution_count": 1,
   "metadata": {},
   "outputs": [
    {
     "name": "stdout",
     "output_type": "stream",
     "text": [
      "Please print a number:5\n",
      "120\n"
     ]
    }
   ],
   "source": [
    "def  recursion(n):\n",
    "      result = n\n",
    "      for i in range(1, n):\n",
    "        result *= i\n",
    "      return result\n",
    "\n",
    "number = int(input('Please print a number:'))\n",
    "result = recursion(number)\n",
    "print (result)"
   ]
  },
  {
   "cell_type": "markdown",
   "metadata": {},
   "source": [
    "# 递归法写阶乘"
   ]
  },
  {
   "cell_type": "code",
   "execution_count": 2,
   "metadata": {},
   "outputs": [
    {
     "name": "stdout",
     "output_type": "stream",
     "text": [
      "Please input a number:8\n",
      "40320\n"
     ]
    }
   ],
   "source": [
    "def factoria(n):\n",
    "  if n == 1 :\n",
    "    return n\n",
    "  else :\n",
    "    return n * factoria(n-1)\n",
    "\n",
    "\n",
    "number = int(input(\"Please input a number:\"))\n",
    "result = factoria(number)\n",
    "print(result)"
   ]
  },
  {
   "cell_type": "markdown",
   "metadata": {},
   "source": [
    "# 斐波那契数列\n",
    "## 迭代法"
   ]
  },
  {
   "cell_type": "code",
   "execution_count": 12,
   "metadata": {},
   "outputs": [
    {
     "name": "stdout",
     "output_type": "stream",
     "text": [
      "输入有误\n"
     ]
    }
   ],
   "source": [
    "def fab(n):\n",
    "    a1 = 1\n",
    "    a2 = 1\n",
    "    a3 = 1\n",
    "\n",
    "    if n < 1:\n",
    "        print(\"输入有误\")\n",
    "        return -1\n",
    "    while (n-2) > 0:\n",
    "        a3 = a1 + a2\n",
    "        a1=a2\n",
    "        a2=a3\n",
    "        n -=1\n",
    "    return a3\n",
    "\n",
    "result=fab(0)\n",
    "if result != -1:\n",
    "  print(\"总共有%d对兔子出生\" % result)"
   ]
  },
  {
   "cell_type": "markdown",
   "metadata": {},
   "source": [
    "## 递归"
   ]
  },
  {
   "cell_type": "code",
   "execution_count": 11,
   "metadata": {},
   "outputs": [
    {
     "name": "stdout",
     "output_type": "stream",
     "text": [
      "The numbers are 6765\n"
     ]
    }
   ],
   "source": [
    "def fab(n):\n",
    "    if n < 1:\n",
    "        print(\"A wrong number\")\n",
    "        return -1\n",
    "    if n == 1 or n == 2:  \n",
    "        return 1\n",
    "    while (n-2) > 0:\n",
    "        return fab(n-2) + fab(n-1)\n",
    "\n",
    "result = fab(20)\n",
    "if result != -1:\n",
    "    print(\"The numbers are %d\" % result)"
   ]
  },
  {
   "cell_type": "code",
   "execution_count": null,
   "metadata": {},
   "outputs": [],
   "source": []
  }
 ],
 "metadata": {
  "kernelspec": {
   "display_name": "Python 3",
   "language": "python",
   "name": "python3"
  },
  "language_info": {
   "codemirror_mode": {
    "name": "ipython",
    "version": 3
   },
   "file_extension": ".py",
   "mimetype": "text/x-python",
   "name": "python",
   "nbconvert_exporter": "python",
   "pygments_lexer": "ipython3",
   "version": "3.7.0"
  }
 },
 "nbformat": 4,
 "nbformat_minor": 2
}
