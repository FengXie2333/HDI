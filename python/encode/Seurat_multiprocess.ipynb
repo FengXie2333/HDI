{
 "cells": [
  {
   "cell_type": "code",
   "execution_count": 16,
   "metadata": {},
   "outputs": [],
   "source": [
    "from multiprocessing import Pool\n",
    "import os,time,random"
   ]
  },
  {
   "cell_type": "code",
   "execution_count": 17,
   "metadata": {},
   "outputs": [],
   "source": [
    "os.chdir('/hwfssz1/ST_HEALTH/Immune_And_Health_Lab/Single-Cell_F15ZQSB1SY2333/xiefeng/test/Seurat_script')"
   ]
  },
  {
   "cell_type": "code",
   "execution_count": 21,
   "metadata": {},
   "outputs": [],
   "source": [
    "path = \"/hwfssz1/ST_HEALTH/Immune_And_Health_Lab/Single-Cell_F15ZQSB1SY2333/xiefeng/test/Seurat_script\" \n",
    "files= os.listdir(path)\n",
    "#files = ['PC20170817ZHY.r', 'PC20171207LGW.r', 'PC20180703GHF.r']"
   ]
  },
  {
   "cell_type": "code",
   "execution_count": 23,
   "metadata": {},
   "outputs": [
    {
     "name": "stdout",
     "output_type": "stream",
     "text": [
      "Parent process 88002.\n",
      "Run task PC20171207LGW.r (93146)...\n",
      "Run task PC20170817ZHY.r (93145)...\n",
      "Run task PC20180703GHF.r (93147)...\n",
      "Rscript PC20171207LGW.r\n",
      "Rscript PC20180703GHF.r\n",
      "Rscript PC20170817ZHY.r\n",
      "PC20170817ZHY.r\n",
      "PC20171207LGW.r\n",
      "PC20180703GHF.r\n",
      "Waiting for all subprocesses done...\n",
      "All subprocesses done.\n"
     ]
    }
   ],
   "source": [
    "def run_proc(name):\n",
    "    print('Run task %s (%s)...' % (name, os.getpid()))\n",
    "    print('Rscript %s' % name)\n",
    "    os.system('Rscript %s' % name)\n",
    "    \n",
    "if __name__=='__main__':\n",
    "    print('Parent process %s.' % os.getpid())\n",
    "    p = Pool(4)\n",
    "    \n",
    "    for i in list(files):\n",
    "        print(i)\n",
    "        p.apply_async(run_proc, args=(i,))\n",
    "    print('Waiting for all subprocesses done...')\n",
    "    p.close()\n",
    "    p.join()\n",
    "    print('All subprocesses done.')"
   ]
  },
  {
   "cell_type": "code",
   "execution_count": 22,
   "metadata": {},
   "outputs": [
    {
     "data": {
      "text/plain": [
       "['PC20170817ZHY.r', 'PC20171207LGW.r', 'PC20180703GHF.r']"
      ]
     },
     "execution_count": 22,
     "metadata": {},
     "output_type": "execute_result"
    }
   ],
   "source": [
    "files"
   ]
  },
  {
   "cell_type": "code",
   "execution_count": 9,
   "metadata": {},
   "outputs": [
    {
     "name": "stdout",
     "output_type": "stream",
     "text": [
      "PC20170817ZHY.r\n",
      "PC20171207LGW.r\n",
      "PC20180703GHF.r\n"
     ]
    }
   ],
   "source": [
    "for i in files:\n",
    "    print(i)"
   ]
  },
  {
   "cell_type": "code",
   "execution_count": null,
   "metadata": {},
   "outputs": [],
   "source": []
  }
 ],
 "metadata": {
  "kernelspec": {
   "display_name": "Python 3",
   "language": "python",
   "name": "python3"
  },
  "language_info": {
   "codemirror_mode": {
    "name": "ipython",
    "version": 3
   },
   "file_extension": ".py",
   "mimetype": "text/x-python",
   "name": "python",
   "nbconvert_exporter": "python",
   "pygments_lexer": "ipython3",
   "version": "3.6.2"
  }
 },
 "nbformat": 4,
 "nbformat_minor": 2
}
