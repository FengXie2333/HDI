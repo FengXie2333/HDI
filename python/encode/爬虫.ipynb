{
 "cells": [
  {
   "cell_type": "code",
   "execution_count": 21,
   "metadata": {
    "collapsed": true
   },
   "outputs": [],
   "source": [
    "import requests"
   ]
  },
  {
   "cell_type": "code",
   "execution_count": 177,
   "metadata": {
    "collapsed": true
   },
   "outputs": [],
   "source": [
    "headers = {'User-Agent':'Mozilla/5.0 (Windows NT 10.0; Win64; x64) AppleWebKit/537.36 (KHTML, like Gecko) Chrome/70.0.3538.110 Safari/537.36'}"
   ]
  },
  {
   "cell_type": "code",
   "execution_count": 197,
   "metadata": {
    "collapsed": true
   },
   "outputs": [],
   "source": [
    "#data = {'queryString':'fopx3'}\n",
    "r = requests.get('https://book.douban.com/top250', headers=headers)"
   ]
  },
  {
   "cell_type": "code",
   "execution_count": 198,
   "metadata": {},
   "outputs": [
    {
     "data": {
      "text/plain": [
       "'https://book.douban.com/top250'"
      ]
     },
     "execution_count": 198,
     "metadata": {},
     "output_type": "execute_result"
    }
   ],
   "source": [
    "r.url"
   ]
  },
  {
   "cell_type": "code",
   "execution_count": 199,
   "metadata": {
    "collapsed": true
   },
   "outputs": [],
   "source": [
    "from bs4 import BeautifulSoup"
   ]
  },
  {
   "cell_type": "code",
   "execution_count": 200,
   "metadata": {
    "collapsed": true
   },
   "outputs": [],
   "source": [
    "soup = BeautifulSoup(r.text, 'html.parser')"
   ]
  },
  {
   "cell_type": "code",
   "execution_count": 201,
   "metadata": {},
   "outputs": [
    {
     "name": "stdout",
     "output_type": "stream",
     "text": [
      "追风筝的人\n",
      "解忧杂货店\n",
      "小王子\n",
      "白夜行\n",
      "围城\n",
      "三体\n",
      "嫌疑人X的献身\n",
      "挪威的森林\n",
      "活着\n",
      "百年孤独\n",
      "红楼梦\n",
      "看见\n",
      "不能承受的生命之轻\n",
      "达·芬奇密码\n",
      "平凡的世界（全三部）\n",
      "三体Ⅱ\n",
      "三体Ⅲ\n",
      "简爱（英文全本）\n",
      "我们仨\n",
      "天才在左 疯子在右\n",
      "哈利·波特与魔法石\n",
      "傲慢与偏见\n",
      "明朝那些事儿（壹）\n",
      "目送\n",
      "飘\n"
     ]
    }
   ],
   "source": [
    "alldiv = soup.find_all('div', class_='pl2')\n",
    "for a in alldiv:\n",
    "    names = a.find(\"a\")['title']\n",
    "    print(names)"
   ]
  },
  {
   "cell_type": "code",
   "execution_count": 203,
   "metadata": {},
   "outputs": [
    {
     "name": "stdout",
     "output_type": "stream",
     "text": [
      "[美] 卡勒德·胡赛尼 / 李继宏 / 上海人民出版社 / 2006-5 / 29.00元\n",
      "[日] 东野圭吾 / 李盈春 / 南海出版公司 / 2014-5 / 39.50元\n",
      "[法] 圣埃克苏佩里 / 马振聘 / 人民文学出版社 / 2003-8 / 22.00元\n",
      "[日] 东野圭吾 / 刘姿君 / 南海出版公司 / 2008-9 / 29.80元\n",
      "钱锺书 / 人民文学出版社 / 1991-2 / 19.00\n",
      "刘慈欣 / 重庆出版社 / 2008-1 / 23.00\n",
      "[日] 东野圭吾 / 刘子倩 / 南海出版公司 / 2008-9 / 28.00\n",
      "[日] 村上春树 / 林少华 / 上海译文出版社 / 2001-2 / 18.80元\n",
      "余华 / 南海出版公司 / 1998-5 / 12.00元\n",
      "[哥伦比亚] 加西亚·马尔克斯 / 范晔 / 南海出版公司 / 2011-6 / 39.50元\n",
      "[清] 曹雪芹 著 / 人民文学出版社 / 1996-12 / 59.70元\n",
      "柴静 / 广西师范大学出版社 / 2013-1-1 / 39.80元\n",
      "[捷克] 米兰·昆德拉 / 许钧 / 上海译文出版社 / 2003-7 / 23.00元\n",
      "[美] 丹·布朗 / 朱振武 / 上海人民出版社 / 2004-2 / 28.00元\n",
      "路遥 / 人民文学出版社 / 2005-1 / 64.00元\n",
      "刘慈欣 / 重庆出版社 / 2008-5 / 32.00\n",
      "刘慈欣 / 重庆出版社 / 2010-11 / 38.00元\n",
      "[英] 夏洛蒂·勃朗特 / 世界图书出版公司 / 2003-11 / 18.00元\n",
      "杨绛 / 生活·读书·新知三联书店 / 2003-7 / 18.80元\n",
      "高铭 / 武汉大学出版社 / 2010-2 / 29.80元\n",
      "[英] J. K. 罗琳 / 苏农 / 人民文学出版社 / 2000-9 / 19.50元\n",
      "[英] 奥斯丁 / 张玲 / 人民文学出版社 / 1993-7 / 13.00元\n",
      "当年明月 / 中国友谊出版公司 / 2006-9 / 24.80\n",
      "龙应台 / 生活·读书·新知三联书店 / 2009-10 / 39.00元\n",
      "[美国] 玛格丽特·米切尔 / 李美华 / 译林出版社 / 2000-9 / 40.00元\n"
     ]
    }
   ],
   "source": [
    "alldiv = soup.find_all('p', class_='pl')\n",
    "for p in alldiv:\n",
    "    author = p.text\n",
    "    print(author)"
   ]
  },
  {
   "cell_type": "code",
   "execution_count": null,
   "metadata": {
    "collapsed": true
   },
   "outputs": [],
   "source": []
  }
 ],
 "metadata": {
  "kernelspec": {
   "display_name": "Python 3",
   "language": "python",
   "name": "python3"
  },
  "language_info": {
   "codemirror_mode": {
    "name": "ipython",
    "version": 3
   },
   "file_extension": ".py",
   "mimetype": "text/x-python",
   "name": "python",
   "nbconvert_exporter": "python",
   "pygments_lexer": "ipython3",
   "version": "3.7.1"
  }
 },
 "nbformat": 4,
 "nbformat_minor": 2
}
