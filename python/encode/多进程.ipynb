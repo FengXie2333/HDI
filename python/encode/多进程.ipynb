{
 "cells": [
  {
   "cell_type": "code",
   "execution_count": 1,
   "metadata": {},
   "outputs": [],
   "source": [
    "from multiprocessing import pool\n",
    "import os,time,random\n",
    "from jinja2 import FileSystemLoader"
   ]
  },
  {
   "cell_type": "code",
   "execution_count": null,
   "metadata": {},
   "outputs": [],
   "source": [
    "env = Environment(loader=FileSystemLoader(\"/文件目录\"))\n",
    "t =env.get_template(\"a.R\")\n",
    "t.render(abc='haha')\n",
    "####输出\n",
    "plot hahah"
   ]
  },
  {
   "cell_type": "code",
   "execution_count": null,
   "metadata": {},
   "outputs": [],
   "source": [
    "# 子进程要执行的代码\n",
    "def run_proc(name):\n",
    "    env = Environment(loader=FileSystemLoader(\"/文件目录\"))\n",
    "    t =env.get_template(\"a.R\") ##调用R脚本\n",
    "\n",
    "if __name__=='__main__':\n",
    "    print('Parent process %s.' % os.getpid())\n",
    "    p = Pool(4) ###数字根据自己的cpu来设\n",
    "    \n",
    "    for i in range(5){\n",
    "        \n",
    "        p.apply_async(run_proc, args=(i,))\n",
    "    }\n",
    "     ###这里的i搞成传参模式\n",
    "    \n",
    "    print('Waiting for all subprocesses done...')\n",
    "    p.close()\n",
    "    p.join()\n",
    "    print('All subprocesses done.')"
   ]
  }
 ],
 "metadata": {
  "kernelspec": {
   "display_name": "Python 3",
   "language": "python",
   "name": "python3"
  },
  "language_info": {
   "codemirror_mode": {
    "name": "ipython",
    "version": 3
   },
   "file_extension": ".py",
   "mimetype": "text/x-python",
   "name": "python",
   "nbconvert_exporter": "python",
   "pygments_lexer": "ipython3",
   "version": "3.6.2"
  }
 },
 "nbformat": 4,
 "nbformat_minor": 2
}
