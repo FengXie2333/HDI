{
 "cells": [
  {
   "cell_type": "code",
   "execution_count": 3,
   "metadata": {
    "collapsed": true
   },
   "outputs": [],
   "source": [
    "import sys\n",
    "\n",
    "from selenium import webdriver\n",
    "\n",
    "from selenium import webdriver\n",
    "from selenium.webdriver.common.by import By\n",
    "from selenium.webdriver.common.keys import Keys\n",
    "from selenium.webdriver.support.ui import Select\n",
    "from selenium.common.exceptions import NoSuchElementException\n",
    "from selenium.common.exceptions import NoAlertPresentException\n",
    "import unittest, time, re\n",
    "\n",
    "from selenium.webdriver.chrome.options import Options\n",
    "\n",
    "from bs4 import BeautifulSoup\n",
    "import csv"
   ]
  },
  {
   "cell_type": "code",
   "execution_count": 4,
   "metadata": {
    "collapsed": true
   },
   "outputs": [],
   "source": [
    "gene_list = \"D:/Common/project/marker.csv\""
   ]
  },
  {
   "cell_type": "code",
   "execution_count": 5,
   "metadata": {
    "collapsed": true
   },
   "outputs": [],
   "source": [
    "genelist = []\n",
    "with open(gene_list) as genefile:\n",
    "    gene = csv.reader(genefile, delimiter = ',')\n",
    "    \n",
    "    for row in gene:\n",
    "        genelist.append(row)"
   ]
  },
  {
   "cell_type": "code",
   "execution_count": 6,
   "metadata": {
    "collapsed": true
   },
   "outputs": [],
   "source": [
    "def dic2csv(dict, file):\n",
    "    with open(file,'w') as f:\n",
    "        w = csv.writer(f)\n",
    "        w.writerows(dict.items())"
   ]
  },
  {
   "cell_type": "code",
   "execution_count": 7,
   "metadata": {
    "collapsed": true
   },
   "outputs": [],
   "source": [
    "chrome_options = Options()\n",
    "chrome_options.add_argument(\"--headless\")   \n",
    "driver = webdriver.Chrome(chrome_options=chrome_options)     # 打开 Chrome 浏览器"
   ]
  },
  {
   "cell_type": "code",
   "execution_count": 8,
   "metadata": {},
   "outputs": [
    {
     "name": "stdout",
     "output_type": "stream",
     "text": [
      "[' CD4']\n",
      "['CD45RA']\n",
      "['CD45RO']\n",
      "['CCR7']\n",
      "[' CXCR3']\n",
      "[' CCR5']\n",
      "[' IL12Rβ2']\n",
      "['T-bet']\n",
      "['CD4']\n",
      "[' CCR4']\n",
      "[' IL12Rβ2']\n",
      "['GATA3']\n",
      "['CD4']\n",
      "[' CCR3']\n",
      "[' CCR6']\n",
      "[' PU.1']\n",
      "['CD4']\n",
      "[' CCR6']\n",
      "[' CCR4']\n",
      "[' NK1.1']\n",
      "['CD4']\n",
      "[' CCR10']\n",
      "[' CCR4']\n",
      "[' CCR6']\n",
      "['CD4']\n",
      "[' CD127']\n",
      "[' CD25']\n",
      "[' CTLA-4']\n",
      "['FOXP3']\n",
      "['CD4']\n",
      "['CXCR5']\n",
      "[' CD40L']\n",
      "[' ICOS']\n",
      "['Bcl-6']\n",
      "['TCRγ/δ']\n",
      "['IL23R']\n",
      "['RORγt']\n",
      "['TCRVα24']\n",
      "[' TCRVβ11']\n",
      "['CD8']\n",
      "[' CD45RA']\n",
      "[' CD45RO']\n",
      "[' CCR7']\n",
      "[' CD28']\n",
      "['CD8']\n",
      "['CCR7']\n"
     ]
    }
   ],
   "source": [
    "result =  {}\n",
    "fail = []\n",
    "for gene in genelist:\n",
    "    try:\n",
    "        print(gene)\n",
    "        gene = gene[0]\n",
    "        driver.get(\"https://www.genecards.org/\")\n",
    "        driver.find_element_by_xpath(\"(.//*[normalize-space(text()) and normalize-space(.)='Explore a Gene'])[1]/following::input[1]\").clear()\n",
    "        driver.find_element_by_xpath(\"(.//*[normalize-space(text()) and normalize-space(.)='Explore a Gene'])[1]/following::input[1]\").send_keys(gene)\n",
    "        driver.find_element_by_xpath(\"(.//*[normalize-space(text()) and normalize-space(.)='Explore a Gene'])[1]/following::input[1]\").send_keys(Keys.ENTER)\n",
    "        driver.find_element_by_xpath(\"//section[@id='aliases_descriptions']/div/div/div[2]/h3\").click()\n",
    "        code = driver.page_source\n",
    "    \n",
    "        soup = BeautifulSoup(code, 'html.parser')\n",
    "        title = soup.title.string\n",
    "        converse_gene = title.split(\" \")[0]\n",
    "        result[gene] = converse_gene\n",
    "        \n",
    "    except NoSuchElementException:\n",
    "        fail.append(gene)\n",
    "        pass\n",
    "    \n",
    "    continue"
   ]
  },
  {
   "cell_type": "code",
   "execution_count": 9,
   "metadata": {
    "collapsed": true
   },
   "outputs": [],
   "source": [
    "dic2csv(result, \"result.csv\")"
   ]
  },
  {
   "cell_type": "code",
   "execution_count": 22,
   "metadata": {},
   "outputs": [],
   "source": [
    "with open(\"failgene.csv\", 'w') as f:\n",
    "    for i in fail:\n",
    "        f.write(i + '\\n')"
   ]
  },
  {
   "cell_type": "code",
   "execution_count": null,
   "metadata": {
    "collapsed": true
   },
   "outputs": [],
   "source": []
  }
 ],
 "metadata": {
  "kernelspec": {
   "display_name": "Python 3",
   "language": "python",
   "name": "python3"
  },
  "language_info": {
   "codemirror_mode": {
    "name": "ipython",
    "version": 3
   },
   "file_extension": ".py",
   "mimetype": "text/x-python",
   "name": "python",
   "nbconvert_exporter": "python",
   "pygments_lexer": "ipython3",
   "version": "3.6.2"
  }
 },
 "nbformat": 4,
 "nbformat_minor": 2
}
