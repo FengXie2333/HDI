{
 "cells": [
  {
   "cell_type": "code",
   "execution_count": 3,
   "metadata": {},
   "outputs": [
    {
     "data": {
      "text/plain": [
       "[1, 2, 3, 4, 5, 7, 9]"
      ]
     },
     "execution_count": 3,
     "metadata": {},
     "output_type": "execute_result"
    }
   ],
   "source": [
    "list1 = [1, 2, 3, 4, 5, 4, 7,  9]\n",
    "temp = list1[:]\n",
    "list1.clear()\n",
    "for each in temp:\n",
    "    if each not in list1:\n",
    "        list1.append(each)\n",
    "    \n",
    "list1"
   ]
  },
  {
   "cell_type": "code",
   "execution_count": 16,
   "metadata": {
    "scrolled": true
   },
   "outputs": [],
   "source": [
    "t = open(\"text.docx\", mode='r')"
   ]
  },
  {
   "cell_type": "code",
   "execution_count": 17,
   "metadata": {},
   "outputs": [
    {
     "data": {
      "text/plain": [
       "0"
      ]
     },
     "execution_count": 17,
     "metadata": {},
     "output_type": "execute_result"
    }
   ],
   "source": [
    "t.tell()"
   ]
  },
  {
   "cell_type": "code",
   "execution_count": 19,
   "metadata": {},
   "outputs": [],
   "source": [
    "t.close()"
   ]
  },
  {
   "cell_type": "code",
   "execution_count": 51,
   "metadata": {},
   "outputs": [],
   "source": [
    "f.close()"
   ]
  },
  {
   "cell_type": "code",
   "execution_count": 104,
   "metadata": {},
   "outputs": [],
   "source": [
    "#!/usr/bin/python3\n",
    "import codecs\n",
    "\n",
    "boy = []\n",
    "girl = []\n",
    "count = 1\n",
    "f = open(\"record.txt\", 'r', encoding=\"utf-8\")\n",
    "\n",
    "data = f.readlines()\n",
    " #data.replace(\"\\r\\n\",\" \")"
   ]
  },
  {
   "cell_type": "code",
   "execution_count": 76,
   "metadata": {},
   "outputs": [
    {
     "data": {
      "text/plain": [
       "list"
      ]
     },
     "execution_count": 76,
     "metadata": {},
     "output_type": "execute_result"
    }
   ],
   "source": [
    "type(data)"
   ]
  },
  {
   "cell_type": "code",
   "execution_count": 77,
   "metadata": {},
   "outputs": [
    {
     "data": {
      "text/plain": [
       "['Amusi:干嘛呢?\\n',\n",
       " 'Lucy:做教案\\n',\n",
       " 'Amusi:吃饭了么?\\n',\n",
       " 'Lucy:恩，刚吃过，吃的饺子，你呢?\\n',\n",
       " 'Amusi:我呀，吃得面条 \\n',\n",
       " 'Lucy:嘿嘿，很赞\\n',\n",
       " '===============================\\n',\n",
       " 'Amusi:下班了么\\n',\n",
       " 'Lucy:恩，刚下班了\\n',\n",
       " 'Amusi:走到哪啦？\\n',\n",
       " 'Lucy:南京路，准备坐地铁啦，你在干嘛呢？\\n',\n",
       " 'Amusi:我呀，还在加班工作呢\\n',\n",
       " '===============================\\n',\n",
       " 'Lucy:你看那个狗狗，好萌啊！\\n',\n",
       " 'Amusi:哈哈，感觉像是哈士奇\\n',\n",
       " 'Lucy:应该不是，我看像牧羊犬\\n',\n",
       " 'Amusi:昨天买的哈密瓜吃完了么？\\n',\n",
       " 'Lucy:恩，吃完啦\\n',\n",
       " 'Amusi:走，那个有个水果店，去买点水果\\n',\n",
       " '===============================\\n']"
      ]
     },
     "execution_count": 77,
     "metadata": {},
     "output_type": "execute_result"
    }
   ],
   "source": [
    "data"
   ]
  },
  {
   "cell_type": "code",
   "execution_count": 78,
   "metadata": {},
   "outputs": [
    {
     "data": {
      "text/plain": [
       "['Amusi', '干嘛呢?\\n']"
      ]
     },
     "execution_count": 78,
     "metadata": {},
     "output_type": "execute_result"
    }
   ],
   "source": [
    "data[0].split(':',1)"
   ]
  },
  {
   "cell_type": "code",
   "execution_count": 96,
   "metadata": {},
   "outputs": [
    {
     "name": "stdout",
     "output_type": "stream",
     "text": [
      ": in Amusi:干嘛呢?\n",
      "\n",
      ": in Lucy:做教案\n",
      "\n",
      ": in Amusi:吃饭了么?\n",
      "\n",
      ": in Lucy:恩，刚吃过，吃的饺子，你呢?\n",
      "\n",
      ": in Amusi:我呀，吃得面条 \n",
      "\n",
      ": in Lucy:嘿嘿，很赞\n",
      "\n",
      ": not in ===============================\n",
      "\n",
      "['干嘛呢?\\n', '吃饭了么?\\n', '我呀，吃得面条 \\n'] ['做教案\\n', '恩，刚吃过，吃的饺子，你呢?\\n', '嘿嘿，很赞\\n']\n",
      ": in Amusi:下班了么\n",
      "\n",
      ": in Lucy:恩，刚下班了\n",
      "\n",
      ": in Amusi:走到哪啦？\n",
      "\n",
      ": in Lucy:南京路，准备坐地铁啦，你在干嘛呢？\n",
      "\n",
      ": in Amusi:我呀，还在加班工作呢\n",
      "\n",
      ": not in ===============================\n",
      "\n",
      "['下班了么\\n', '走到哪啦？\\n', '我呀，还在加班工作呢\\n'] ['恩，刚下班了\\n', '南京路，准备坐地铁啦，你在干嘛呢？\\n']\n",
      ": in Lucy:你看那个狗狗，好萌啊！\n",
      "\n",
      ": in Amusi:哈哈，感觉像是哈士奇\n",
      "\n",
      ": in Lucy:应该不是，我看像牧羊犬\n",
      "\n",
      ": in Amusi:昨天买的哈密瓜吃完了么？\n",
      "\n",
      ": in Lucy:恩，吃完啦\n",
      "\n",
      ": in Amusi:走，那个有个水果店，去买点水果\n",
      "\n",
      ": not in ===============================\n",
      "\n",
      "['哈哈，感觉像是哈士奇\\n', '昨天买的哈密瓜吃完了么？\\n', '走，那个有个水果店，去买点水果\\n'] ['你看那个狗狗，好萌啊！\\n', '应该不是，我看像牧羊犬\\n', '恩，吃完啦\\n']\n"
     ]
    }
   ],
   "source": [
    "count = 0\n",
    "for each_line in data:\n",
    "    if ':' in each_line:\n",
    "        print(':' + ' in ' + each_line)\n",
    "        (people, word) = each_line.split(':', 1)\n",
    "        if people == \"Amusi\":\n",
    "            boy.append(word)\n",
    "        if people == \"Lucy\":\n",
    "            girl.append(word)\n",
    "    else:\n",
    "        print(':' + ' not in ' + each_line)\n",
    "        print(boy,girl)\n",
    "        file_name_boy = 'boy' + str(count) + '.txt'\n",
    "        file_name_girl = 'girl' + str(count) + '.txt'\n",
    "        boy_file = open(file_name_boy, mode='w')\n",
    "        girl_file = open(file_name_girl, mode='w')\n",
    "        boy_file.writelines(boy)\n",
    "        girl_file.writelines(girl)\n",
    "        boy = []\n",
    "        girl = []\n",
    "        count += 1\n",
    "\n",
    "boy_file.close()\n",
    "girl_file.close()\n",
    "f.close()"
   ]
  },
  {
   "cell_type": "markdown",
   "metadata": {},
   "source": [
    "## OS 模块"
   ]
  },
  {
   "cell_type": "code",
   "execution_count": 97,
   "metadata": {},
   "outputs": [],
   "source": [
    "import os"
   ]
  },
  {
   "cell_type": "code",
   "execution_count": 98,
   "metadata": {},
   "outputs": [
    {
     "data": {
      "text/plain": [
       "'D:\\\\HDI\\\\HDI\\\\python'"
      ]
     },
     "execution_count": 98,
     "metadata": {},
     "output_type": "execute_result"
    }
   ],
   "source": [
    "os.getcwd()"
   ]
  },
  {
   "cell_type": "code",
   "execution_count": 99,
   "metadata": {},
   "outputs": [
    {
     "data": {
      "text/plain": [
       "['.ipynb_checkpoints',\n",
       " '0.2-全课程内容导学v2.pdf',\n",
       " '067726-03.rar',\n",
       " '6 函数.ipynb',\n",
       " '7 字典和集合.ipynb',\n",
       " 'learning.py',\n",
       " 'p2_1.py',\n",
       " 'p2_2.py',\n",
       " 'p4.py',\n",
       " 'p6_5.py',\n",
       " 'record.txt',\n",
       " 'Temconverse.py',\n",
       " 'text.docx',\n",
       " '小甲鱼C语言课件+源代码.rar',\n",
       " '课件',\n",
       " '零基础入门学习Python+全套源码课件.rar']"
      ]
     },
     "execution_count": 99,
     "metadata": {},
     "output_type": "execute_result"
    }
   ],
   "source": [
    "os.listdir()"
   ]
  },
  {
   "cell_type": "code",
   "execution_count": 100,
   "metadata": {},
   "outputs": [
    {
     "data": {
      "text/plain": [
       "0"
      ]
     },
     "execution_count": 100,
     "metadata": {},
     "output_type": "execute_result"
    }
   ],
   "source": [
    "os.system(\"calc\")"
   ]
  },
  {
   "cell_type": "code",
   "execution_count": 108,
   "metadata": {},
   "outputs": [
    {
     "data": {
      "text/plain": [
       "'\\r\\n'"
      ]
     },
     "execution_count": 108,
     "metadata": {},
     "output_type": "execute_result"
    }
   ],
   "source": [
    "os.linesep"
   ]
  },
  {
   "cell_type": "code",
   "execution_count": 109,
   "metadata": {},
   "outputs": [
    {
     "data": {
      "text/plain": [
       "'.'"
      ]
     },
     "execution_count": 109,
     "metadata": {},
     "output_type": "execute_result"
    }
   ],
   "source": [
    "os.curdir"
   ]
  },
  {
   "cell_type": "code",
   "execution_count": 110,
   "metadata": {},
   "outputs": [
    {
     "data": {
      "text/plain": [
       "'..'"
      ]
     },
     "execution_count": 110,
     "metadata": {},
     "output_type": "execute_result"
    }
   ],
   "source": [
    "os.pardir"
   ]
  },
  {
   "cell_type": "code",
   "execution_count": 111,
   "metadata": {},
   "outputs": [
    {
     "data": {
      "text/plain": [
       "'nt'"
      ]
     },
     "execution_count": 111,
     "metadata": {},
     "output_type": "execute_result"
    }
   ],
   "source": [
    "os.name"
   ]
  },
  {
   "cell_type": "markdown",
   "metadata": {},
   "source": [
    "## time模块"
   ]
  },
  {
   "cell_type": "code",
   "execution_count": 112,
   "metadata": {},
   "outputs": [],
   "source": [
    "import time"
   ]
  },
  {
   "cell_type": "code",
   "execution_count": 115,
   "metadata": {},
   "outputs": [],
   "source": [
    "tt = time.gmtime(os.path.getmtime(\"record.txt\"))"
   ]
  },
  {
   "cell_type": "code",
   "execution_count": 117,
   "metadata": {},
   "outputs": [
    {
     "data": {
      "text/plain": [
       "'18 Nov 2018 02 : 59 : 48'"
      ]
     },
     "execution_count": 117,
     "metadata": {},
     "output_type": "execute_result"
    }
   ],
   "source": [
    "time.strftime(\"%d %b %Y %H : %M : %S\", tt)"
   ]
  },
  {
   "cell_type": "markdown",
   "metadata": {},
   "source": [
    "## pickle"
   ]
  },
  {
   "cell_type": "code",
   "execution_count": 118,
   "metadata": {},
   "outputs": [],
   "source": [
    "import pickle"
   ]
  },
  {
   "cell_type": "code",
   "execution_count": 123,
   "metadata": {},
   "outputs": [],
   "source": [
    "mylist = [123, 3.14, \"miaomiao\", [\"another list\"]]\n",
    "pickle_file = open(\"my_list.pkl\", \"wb\")\n",
    "pickle.dump(mylist, pickle_file)\n",
    "pickle_file.close()"
   ]
  },
  {
   "cell_type": "code",
   "execution_count": 125,
   "metadata": {},
   "outputs": [],
   "source": [
    "pickle_file = open(\"my_list.pkl\", \"rb\")\n",
    "my_list = pickle.load(pickle_file)"
   ]
  },
  {
   "cell_type": "code",
   "execution_count": 126,
   "metadata": {},
   "outputs": [
    {
     "data": {
      "text/plain": [
       "[123, 3.14, 'miaomiao', ['another list']]"
      ]
     },
     "execution_count": 126,
     "metadata": {},
     "output_type": "execute_result"
    }
   ],
   "source": [
    "my_list"
   ]
  },
  {
   "cell_type": "code",
   "execution_count": null,
   "metadata": {},
   "outputs": [],
   "source": []
  }
 ],
 "metadata": {
  "kernelspec": {
   "display_name": "Python 3",
   "language": "python",
   "name": "python3"
  },
  "language_info": {
   "codemirror_mode": {
    "name": "ipython",
    "version": 3
   },
   "file_extension": ".py",
   "mimetype": "text/x-python",
   "name": "python",
   "nbconvert_exporter": "python",
   "pygments_lexer": "ipython3",
   "version": "3.7.0"
  }
 },
 "nbformat": 4,
 "nbformat_minor": 2
}
