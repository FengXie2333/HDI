{
 "cells": [
  {
   "cell_type": "code",
   "execution_count": 18,
   "metadata": {},
   "outputs": [],
   "source": [
    "from jinja2 import FileSystemLoader\n",
    "from jinja2 import PackageLoader,Environment\n",
    "import os"
   ]
  },
  {
   "cell_type": "code",
   "execution_count": 19,
   "metadata": {},
   "outputs": [],
   "source": [
    "os.chdir('/hwfssz1/ST_HEALTH/Immune_And_Health_Lab/Single-Cell_F15ZQSB1SY2333/xiefeng/test/Seurat_script')"
   ]
  },
  {
   "cell_type": "code",
   "execution_count": 20,
   "metadata": {},
   "outputs": [],
   "source": [
    "env = Environment(loader=FileSystemLoader(\"/hwfssz1/ST_HEALTH/Immune_And_Health_Lab/Single-Cell_F15ZQSB1SY2333/xiefeng/test\"))\n",
    "t =env.get_template(\"Seurat.r\")\n",
    "inputfile = ['\\\"exp_PC20170817ZHY.exp.Robj\\\"', '\\\"exp_PC20180703GHF.exp.Robj\\\"', '\\\"exp_PC20171207LGW.exp.Robj\\\"']\n",
    "samplename = ['\\\"PC20170817ZHY\\\"', '\\\"PC20180703GHF\\\"','\\\"PC20171207LGW\\\"']\n",
    "filename = ['PC20170817ZHY', 'PC20180703GHF','PC20171207LGW']"
   ]
  },
  {
   "cell_type": "code",
   "execution_count": 21,
   "metadata": {},
   "outputs": [],
   "source": [
    "param = {'project': '\\\"pancreatic\\\"',\n",
    "         'inputdir': '\\\"/hwfssz1/ST_HEALTH/Immune_And_Health_Lab/Single-Cell_F15ZQSB1SY2333/xiefeng/Pancancer/cellranger_aggr\\\"',\n",
    "         'outputdir': '\\\"/hwfssz1/ST_HEALTH/Immune_And_Health_Lab/Single-Cell_F15ZQSB1SY2333/xiefeng/test/Seurat\\\"'\n",
    "        }"
   ]
  },
  {
   "cell_type": "code",
   "execution_count": 22,
   "metadata": {},
   "outputs": [],
   "source": [
    "n = 0\n",
    "index = 0\n",
    "for i in inputfile:\n",
    "    param['inputfile'] = i\n",
    "    param['samplename'] = samplename[n]\n",
    "    output = t.render(param)\n",
    "    name = filename[n]\n",
    "    n += 1\n",
    "    index += 1 \n",
    "    with open (\"%s.r\" % name, 'w') as f:\n",
    "        f.write(output)"
   ]
  },
  {
   "cell_type": "code",
   "execution_count": null,
   "metadata": {},
   "outputs": [],
   "source": []
  }
 ],
 "metadata": {
  "kernelspec": {
   "display_name": "Python 3",
   "language": "python",
   "name": "python3"
  },
  "language_info": {
   "codemirror_mode": {
    "name": "ipython",
    "version": 3
   },
   "file_extension": ".py",
   "mimetype": "text/x-python",
   "name": "python",
   "nbconvert_exporter": "python",
   "pygments_lexer": "ipython3",
   "version": "3.6.2"
  }
 },
 "nbformat": 4,
 "nbformat_minor": 2
}
