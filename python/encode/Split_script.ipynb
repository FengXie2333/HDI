{
 "cells": [
  {
   "cell_type": "code",
   "execution_count": 15,
   "metadata": {},
   "outputs": [],
   "source": [
    "import os\n",
    "import pandas as pd"
   ]
  },
  {
   "cell_type": "code",
   "execution_count": null,
   "metadata": {},
   "outputs": [],
   "source": [
    "workdir ="
   ]
  },
  {
   "cell_type": "code",
   "execution_count": 27,
   "metadata": {},
   "outputs": [],
   "source": [
    "os.chdir('/mnt/d/Common/project/gastirc_cancer')"
   ]
  },
  {
   "cell_type": "code",
   "execution_count": 74,
   "metadata": {},
   "outputs": [],
   "source": [
    "df=pd.read_csv(\"/mnt/d/Common/project/gastirc_cancer/gastric.csv\", sep=',')"
   ]
  },
  {
   "cell_type": "code",
   "execution_count": 75,
   "metadata": {},
   "outputs": [
    {
     "data": {
      "text/html": [
       "<div>\n",
       "<style scoped>\n",
       "    .dataframe tbody tr th:only-of-type {\n",
       "        vertical-align: middle;\n",
       "    }\n",
       "\n",
       "    .dataframe tbody tr th {\n",
       "        vertical-align: top;\n",
       "    }\n",
       "\n",
       "    .dataframe thead th {\n",
       "        text-align: right;\n",
       "    }\n",
       "</style>\n",
       "<table border=\"1\" class=\"dataframe\">\n",
       "  <thead>\n",
       "    <tr style=\"text-align: right;\">\n",
       "      <th></th>\n",
       "      <th>chip</th>\n",
       "      <th>lane</th>\n",
       "      <th>name</th>\n",
       "      <th>type</th>\n",
       "      <th>start</th>\n",
       "      <th>end</th>\n",
       "      <th>path</th>\n",
       "    </tr>\n",
       "  </thead>\n",
       "  <tbody>\n",
       "    <tr>\n",
       "      <th>0</th>\n",
       "      <td>CL100043472</td>\n",
       "      <td>L01</td>\n",
       "      <td>ZYLib20170921-GCLMT</td>\n",
       "      <td>PE26+100+8</td>\n",
       "      <td>2017/10/21</td>\n",
       "      <td>2017/10/27</td>\n",
       "      <td>/zfssz3/CNGB_DATA/zebra01/P17Z10200N0142_Temp/...</td>\n",
       "    </tr>\n",
       "    <tr>\n",
       "      <th>1</th>\n",
       "      <td>CL100043472</td>\n",
       "      <td>L02</td>\n",
       "      <td>ZYLib20170921-GCLMP</td>\n",
       "      <td>PE26+100+8</td>\n",
       "      <td>2017/10/21</td>\n",
       "      <td>2017/10/27</td>\n",
       "      <td>/zfssz3/CNGB_DATA/zebra01/P17Z10200N0142_Temp/...</td>\n",
       "    </tr>\n",
       "    <tr>\n",
       "      <th>2</th>\n",
       "      <td>CL100043473</td>\n",
       "      <td>L01</td>\n",
       "      <td>ZYLib20170921-GCLMT</td>\n",
       "      <td>PE26+100+8</td>\n",
       "      <td>2017/10/21</td>\n",
       "      <td>2017/10/27</td>\n",
       "      <td>/zfssz3/CNGB_DATA/zebra01/P17Z10200N0142_Temp/...</td>\n",
       "    </tr>\n",
       "    <tr>\n",
       "      <th>3</th>\n",
       "      <td>CL100043473</td>\n",
       "      <td>L02</td>\n",
       "      <td>ZYLib20170921-GCLMP</td>\n",
       "      <td>PE26+100+8</td>\n",
       "      <td>2017/10/21</td>\n",
       "      <td>2017/10/27</td>\n",
       "      <td>/zfssz3/CNGB_DATA/zebra01/P17Z10200N0142_Temp/...</td>\n",
       "    </tr>\n",
       "    <tr>\n",
       "      <th>4</th>\n",
       "      <td>CL100043474</td>\n",
       "      <td>L01</td>\n",
       "      <td>ZYLib20170921-GCLMT</td>\n",
       "      <td>PE26+100+8</td>\n",
       "      <td>2017/10/21</td>\n",
       "      <td>2017/10/26</td>\n",
       "      <td>/zfssz3/CNGB_DATA/zebra01/P17Z10200N0142_Temp/...</td>\n",
       "    </tr>\n",
       "  </tbody>\n",
       "</table>\n",
       "</div>"
      ],
      "text/plain": [
       "          chip lane                 name        type       start         end  \\\n",
       "0  CL100043472  L01  ZYLib20170921-GCLMT  PE26+100+8  2017/10/21  2017/10/27   \n",
       "1  CL100043472  L02  ZYLib20170921-GCLMP  PE26+100+8  2017/10/21  2017/10/27   \n",
       "2  CL100043473  L01  ZYLib20170921-GCLMT  PE26+100+8  2017/10/21  2017/10/27   \n",
       "3  CL100043473  L02  ZYLib20170921-GCLMP  PE26+100+8  2017/10/21  2017/10/27   \n",
       "4  CL100043474  L01  ZYLib20170921-GCLMT  PE26+100+8  2017/10/21  2017/10/26   \n",
       "\n",
       "                                                path  \n",
       "0  /zfssz3/CNGB_DATA/zebra01/P17Z10200N0142_Temp/...  \n",
       "1  /zfssz3/CNGB_DATA/zebra01/P17Z10200N0142_Temp/...  \n",
       "2  /zfssz3/CNGB_DATA/zebra01/P17Z10200N0142_Temp/...  \n",
       "3  /zfssz3/CNGB_DATA/zebra01/P17Z10200N0142_Temp/...  \n",
       "4  /zfssz3/CNGB_DATA/zebra01/P17Z10200N0142_Temp/...  "
      ]
     },
     "execution_count": 75,
     "metadata": {},
     "output_type": "execute_result"
    }
   ],
   "source": [
    "df.head()"
   ]
  },
  {
   "cell_type": "code",
   "execution_count": 76,
   "metadata": {},
   "outputs": [],
   "source": [
    "path = df['path']"
   ]
  },
  {
   "cell_type": "code",
   "execution_count": 52,
   "metadata": {},
   "outputs": [],
   "source": [
    "def mkdir(path):\n",
    "    folder = os.path.exists(path)\n",
    "    \n",
    "    if not folder:\n",
    "        os.makedirs(path)\n",
    "        print('%s has been made' % path)\n",
    "    else:\n",
    "        print('Folder has existed')"
   ]
  },
  {
   "cell_type": "code",
   "execution_count": 69,
   "metadata": {},
   "outputs": [],
   "source": [
    "os.chdir(workdir)"
   ]
  },
  {
   "cell_type": "code",
   "execution_count": null,
   "metadata": {},
   "outputs": [],
   "source": [
    "n = 0\n",
    "for i in path{\n",
    "    n += 1\n",
    "    \n",
    "    m = n//5\n",
    "    y = n%5\n",
    "    \n",
    "    name = os.path.basename(i)\n",
    "    directory = os.path.dirname(i)\n",
    "    mkdir(name)\n",
    "    A = \"sh /hwfssz1/ST_HEALTH/Immune_And_Health_Lab/Single-Cell_F15ZQSB1SY2333/xiefeng/Pancancer/SplitQsub_FqConvert_Bseq500to10X.sh\"\n",
    "    f = (path + '/' + name + '_read_1.fq.gz')\n",
    "    s = (path + '/' + name + '_read_2.fq.gz')\n",
    "    o = (workdir + '/' + name +'/outs')\n",
    "    d = (workdir + '/' + name +'/shell')\n",
    "    out = (A + ' ' + '-f ' + f + ' ' + '-s ' + s + ' ' + '-o ' + o + ' ' + '-d ' + d)\n",
    "    sh_path = (workdir + '/' +name + '/' + 'split.sh')\n",
    "    \n",
    "    if y == 1:\n",
    "        with open('main%d.sh' % m, 'w') as m:\n",
    "        m.write('sh ' + sh_path + ' ' + '&&' + ' ')\n",
    "    else:\n",
    "        with open('main%d.sh' % m, 'a') as m:\n",
    "        m.write('sh ' + sh_path + ' ' + '&&' + ' ')\n",
    "    \n",
    "    os.chadir(os.path.join(workdir + '/' +name))\n",
    "    \n",
    "    with open('split.sh','w') as f:\n",
    "        f.write(out)\n",
    "}"
   ]
  },
  {
   "cell_type": "code",
   "execution_count": 70,
   "metadata": {},
   "outputs": [],
   "source": []
  },
  {
   "cell_type": "code",
   "execution_count": null,
   "metadata": {},
   "outputs": [],
   "source": []
  }
 ],
 "metadata": {
  "kernelspec": {
   "display_name": "Python 3",
   "language": "python",
   "name": "python3"
  },
  "language_info": {
   "codemirror_mode": {
    "name": "ipython",
    "version": 3
   },
   "file_extension": ".py",
   "mimetype": "text/x-python",
   "name": "python",
   "nbconvert_exporter": "python",
   "pygments_lexer": "ipython3",
   "version": "3.7.1"
  }
 },
 "nbformat": 4,
 "nbformat_minor": 2
}
